{
  "nbformat": 4,
  "nbformat_minor": 0,
  "metadata": {
    "kernelspec": {
      "name": "python3",
      "display_name": "Python 3"
    },
    "colab": {
      "provenance": []
    },
    "language_info": {
      "name": "python"
    },
    "accelerator": "GPU"
  },
  "cells": [
    {
      "cell_type": "markdown",
      "metadata": {
        "id": "5utTU63WzGd3"
      },
      "source": [
        "# Topic Modeling\n",
        "## *Data Science Unit 4 Sprint 1 Assignment 4*\n",
        "\n",
        "\n",
        "![](https://drive.google.com/uc?export=view&id=1Aze8Xe_ZZpV22IwFNUH09T2howHmF1AK)\n",
        "\n",
        "[Image Credit: slides from Ben Mabey](https://speakerdeck.com/bmabey/visualizing-topic-models)\n",
        "\n",
        "Apply Topic Modeling to Analyze a corpus of Amazon reviews\n",
        "\n",
        "- Load in the Amazon Review dataset\n",
        "- Clean the dataset\n",
        "- Vectorize the dataset\n",
        "- Fit a Gensim LDA topic model on Amazon Reviews\n",
        "- Select appropriate number of topics\n",
        "- Create some dope visualization of the topics\n",
        "- Write a few bullets on your findings in markdown at the end"
      ]
    },
    {
      "cell_type": "code",
      "metadata": {
        "id": "X0x7DXmr8zYE"
      },
      "source": [
        "#!pip install pyLDAvis==3.3.1"
      ],
      "execution_count": null,
      "outputs": []
    },
    {
      "cell_type": "code",
      "metadata": {
        "id": "uQGwb9xbFKIr"
      },
      "source": [
        "#!pip install pandarallel==1.4.8"
      ],
      "execution_count": null,
      "outputs": []
    },
    {
      "cell_type": "code",
      "metadata": {
        "id": "nUPIrjOB_-BR"
      },
      "source": [
        "# !python -m spacy download en_core_web_md"
      ],
      "execution_count": null,
      "outputs": []
    },
    {
      "cell_type": "markdown",
      "metadata": {
        "id": "isyLmOAZqYR0"
      },
      "source": [
        "## Restart runtime!"
      ]
    },
    {
      "cell_type": "code",
      "metadata": {
        "id": "rXrXC0mrzGd5",
        "colab": {
          "base_uri": "https://localhost:8080/"
        },
        "outputId": "69ac020e-f52d-4af8-9b04-1f843561ea55"
      },
      "source": [
        "import re\n",
        "import pandas as pd\n",
        "import numpy as np\n",
        "import matplotlib.pyplot as plt\n",
        "from sklearn.feature_extraction.text import CountVectorizer, TfidfVectorizer\n",
        "\n",
        "import spacy\n",
        "spacy.util.fix_random_seed(0)\n",
        "\n",
        "import pyLDAvis\n",
        "import pyLDAvis.gensim_models\n",
        "\n",
        "import gensim\n",
        "import gensim.corpora as corpora\n",
        "from gensim.utils import simple_preprocess\n",
        "from gensim.models import CoherenceModel\n",
        "\n",
        "from pandarallel import pandarallel\n",
        "\n",
        "%matplotlib inline\n",
        "\n",
        "import warnings\n",
        "warnings.filterwarnings(\"ignore\")"
      ],
      "execution_count": 1,
      "outputs": [
        {
          "output_type": "stream",
          "name": "stderr",
          "text": [
            "/usr/local/lib/python3.10/dist-packages/google/rpc/__init__.py:20: DeprecationWarning: Deprecated call to `pkg_resources.declare_namespace('google.rpc')`.\n",
            "Implementing implicit namespace packages (as specified in PEP 420) is preferred to `pkg_resources.declare_namespace`. See https://setuptools.pypa.io/en/latest/references/keywords.html#keyword-namespace-packages\n",
            "  pkg_resources.declare_namespace(__name__)\n",
            "/usr/local/lib/python3.10/dist-packages/pkg_resources/__init__.py:2349: DeprecationWarning: Deprecated call to `pkg_resources.declare_namespace('google')`.\n",
            "Implementing implicit namespace packages (as specified in PEP 420) is preferred to `pkg_resources.declare_namespace`. See https://setuptools.pypa.io/en/latest/references/keywords.html#keyword-namespace-packages\n",
            "  declare_namespace(parent)\n"
          ]
        }
      ]
    },
    {
      "cell_type": "markdown",
      "metadata": {
        "id": "x9ph4ZzpzGd6"
      },
      "source": [
        "----\n",
        "### Load the Amazon Review corpus\n",
        "This dataset is located in the Sprint 1 Module 1 `/data` directory.\n",
        "\n",
        "If the provided relative path doesn't work for you, then you'll have to provide the file path so pandas can read in the file."
      ]
    },
    {
      "cell_type": "code",
      "metadata": {
        "colab": {
          "base_uri": "https://localhost:8080/"
        },
        "id": "c_L4bKk_4E84",
        "outputId": "038d6366-ad3c-4e56-ff5b-c6cbbe4cab9e"
      },
      "source": [
        "# A \"brute force\" way to get the Amazon reviews dataset; just clone the Sprint 1 repo!\n",
        "# Overkill, but it does the job!\n",
        "!git clone https://github.com/LambdaSchool/DS-Unit-4-Sprint-1-NLP.git"
      ],
      "execution_count": 2,
      "outputs": [
        {
          "output_type": "stream",
          "name": "stdout",
          "text": [
            "Cloning into 'DS-Unit-4-Sprint-1-NLP'...\n",
            "remote: Enumerating objects: 1742, done.\u001b[K\n",
            "remote: Counting objects: 100% (210/210), done.\u001b[K\n",
            "remote: Compressing objects: 100% (122/122), done.\u001b[K\n",
            "remote: Total 1742 (delta 115), reused 157 (delta 88), pack-reused 1532\u001b[K\n",
            "Receiving objects: 100% (1742/1742), 60.07 MiB | 18.08 MiB/s, done.\n",
            "Resolving deltas: 100% (284/284), done.\n"
          ]
        }
      ]
    },
    {
      "cell_type": "code",
      "metadata": {
        "colab": {
          "base_uri": "https://localhost:8080/"
        },
        "id": "7__zXIF_504B",
        "outputId": "5037c45c-dca3-44ea-d98e-57e64c8d58f8"
      },
      "source": [
        "!unzip '/content/DS-Unit-4-Sprint-1-NLP/module1-text-data/data/Datafiniti_Amazon_Consumer_Reviews_of_Amazon_Products_May19.csv.zip'"
      ],
      "execution_count": 3,
      "outputs": [
        {
          "output_type": "stream",
          "name": "stdout",
          "text": [
            "Archive:  /content/DS-Unit-4-Sprint-1-NLP/module1-text-data/data/Datafiniti_Amazon_Consumer_Reviews_of_Amazon_Products_May19.csv.zip\n",
            "  inflating: Datafiniti_Amazon_Consumer_Reviews_of_Amazon_Products_May19.csv  \n",
            "   creating: __MACOSX/\n",
            "  inflating: __MACOSX/._Datafiniti_Amazon_Consumer_Reviews_of_Amazon_Products_May19.csv  \n"
          ]
        }
      ]
    },
    {
      "cell_type": "code",
      "metadata": {
        "id": "Ov482n4pzGd6"
      },
      "source": [
        "data_path = \"/content/Datafiniti_Amazon_Consumer_Reviews_of_Amazon_Products_May19.csv\"\n",
        "df = pd.read_csv(data_path)"
      ],
      "execution_count": 4,
      "outputs": []
    },
    {
      "cell_type": "code",
      "metadata": {
        "id": "-yZZEwZNzGd7",
        "colab": {
          "base_uri": "https://localhost:8080/",
          "height": 344
        },
        "outputId": "c3008980-c433-49f6-bd58-1e72fb59b916"
      },
      "source": [
        "df.head(2)"
      ],
      "execution_count": 5,
      "outputs": [
        {
          "output_type": "execute_result",
          "data": {
            "text/plain": [
              "                     id             dateAdded           dateUpdated  \\\n",
              "0  AVpgNzjwLJeJML43Kpxn  2015-10-30T08:59:32Z  2019-04-25T09:08:16Z   \n",
              "1  AVpgNzjwLJeJML43Kpxn  2015-10-30T08:59:32Z  2019-04-25T09:08:16Z   \n",
              "\n",
              "                                                name                  asins  \\\n",
              "0  AmazonBasics AAA Performance Alkaline Batterie...  B00QWO9P0O,B00LH3DMUO   \n",
              "1  AmazonBasics AAA Performance Alkaline Batterie...  B00QWO9P0O,B00LH3DMUO   \n",
              "\n",
              "          brand                                         categories  \\\n",
              "0  Amazonbasics  AA,AAA,Health,Electronics,Health & Household,C...   \n",
              "1  Amazonbasics  AA,AAA,Health,Electronics,Health & Household,C...   \n",
              "\n",
              "  primaryCategories                                          imageURLs  \\\n",
              "0   Health & Beauty  https://images-na.ssl-images-amazon.com/images...   \n",
              "1   Health & Beauty  https://images-na.ssl-images-amazon.com/images...   \n",
              "\n",
              "                                                keys  ... reviews.didPurchase  \\\n",
              "0  amazonbasics/hl002619,amazonbasicsaaaperforman...  ...                 NaN   \n",
              "1  amazonbasics/hl002619,amazonbasicsaaaperforman...  ...                 NaN   \n",
              "\n",
              "  reviews.doRecommend reviews.id reviews.numHelpful reviews.rating  \\\n",
              "0                 NaN        NaN                NaN              3   \n",
              "1                 NaN        NaN                NaN              4   \n",
              "\n",
              "                                  reviews.sourceURLs  \\\n",
              "0  https://www.amazon.com/product-reviews/B00QWO9...   \n",
              "1  https://www.amazon.com/product-reviews/B00QWO9...   \n",
              "\n",
              "                                        reviews.text  \\\n",
              "0  I order 3 of them and one of the item is bad q...   \n",
              "1  Bulk is always the less expensive way to go fo...   \n",
              "\n",
              "                                       reviews.title  reviews.username  \\\n",
              "0  ... 3 of them and one of the item is bad quali...        Byger yang   \n",
              "1  ... always the less expensive way to go for pr...              ByMG   \n",
              "\n",
              "                                          sourceURLs  \n",
              "0  https://www.barcodable.com/upc/841710106442,ht...  \n",
              "1  https://www.barcodable.com/upc/841710106442,ht...  \n",
              "\n",
              "[2 rows x 24 columns]"
            ],
            "text/html": [
              "\n",
              "\n",
              "  <div id=\"df-aef3e0ac-2be5-4d7d-aaf4-14132cc605b3\">\n",
              "    <div class=\"colab-df-container\">\n",
              "      <div>\n",
              "<style scoped>\n",
              "    .dataframe tbody tr th:only-of-type {\n",
              "        vertical-align: middle;\n",
              "    }\n",
              "\n",
              "    .dataframe tbody tr th {\n",
              "        vertical-align: top;\n",
              "    }\n",
              "\n",
              "    .dataframe thead th {\n",
              "        text-align: right;\n",
              "    }\n",
              "</style>\n",
              "<table border=\"1\" class=\"dataframe\">\n",
              "  <thead>\n",
              "    <tr style=\"text-align: right;\">\n",
              "      <th></th>\n",
              "      <th>id</th>\n",
              "      <th>dateAdded</th>\n",
              "      <th>dateUpdated</th>\n",
              "      <th>name</th>\n",
              "      <th>asins</th>\n",
              "      <th>brand</th>\n",
              "      <th>categories</th>\n",
              "      <th>primaryCategories</th>\n",
              "      <th>imageURLs</th>\n",
              "      <th>keys</th>\n",
              "      <th>...</th>\n",
              "      <th>reviews.didPurchase</th>\n",
              "      <th>reviews.doRecommend</th>\n",
              "      <th>reviews.id</th>\n",
              "      <th>reviews.numHelpful</th>\n",
              "      <th>reviews.rating</th>\n",
              "      <th>reviews.sourceURLs</th>\n",
              "      <th>reviews.text</th>\n",
              "      <th>reviews.title</th>\n",
              "      <th>reviews.username</th>\n",
              "      <th>sourceURLs</th>\n",
              "    </tr>\n",
              "  </thead>\n",
              "  <tbody>\n",
              "    <tr>\n",
              "      <th>0</th>\n",
              "      <td>AVpgNzjwLJeJML43Kpxn</td>\n",
              "      <td>2015-10-30T08:59:32Z</td>\n",
              "      <td>2019-04-25T09:08:16Z</td>\n",
              "      <td>AmazonBasics AAA Performance Alkaline Batterie...</td>\n",
              "      <td>B00QWO9P0O,B00LH3DMUO</td>\n",
              "      <td>Amazonbasics</td>\n",
              "      <td>AA,AAA,Health,Electronics,Health &amp; Household,C...</td>\n",
              "      <td>Health &amp; Beauty</td>\n",
              "      <td>https://images-na.ssl-images-amazon.com/images...</td>\n",
              "      <td>amazonbasics/hl002619,amazonbasicsaaaperforman...</td>\n",
              "      <td>...</td>\n",
              "      <td>NaN</td>\n",
              "      <td>NaN</td>\n",
              "      <td>NaN</td>\n",
              "      <td>NaN</td>\n",
              "      <td>3</td>\n",
              "      <td>https://www.amazon.com/product-reviews/B00QWO9...</td>\n",
              "      <td>I order 3 of them and one of the item is bad q...</td>\n",
              "      <td>... 3 of them and one of the item is bad quali...</td>\n",
              "      <td>Byger yang</td>\n",
              "      <td>https://www.barcodable.com/upc/841710106442,ht...</td>\n",
              "    </tr>\n",
              "    <tr>\n",
              "      <th>1</th>\n",
              "      <td>AVpgNzjwLJeJML43Kpxn</td>\n",
              "      <td>2015-10-30T08:59:32Z</td>\n",
              "      <td>2019-04-25T09:08:16Z</td>\n",
              "      <td>AmazonBasics AAA Performance Alkaline Batterie...</td>\n",
              "      <td>B00QWO9P0O,B00LH3DMUO</td>\n",
              "      <td>Amazonbasics</td>\n",
              "      <td>AA,AAA,Health,Electronics,Health &amp; Household,C...</td>\n",
              "      <td>Health &amp; Beauty</td>\n",
              "      <td>https://images-na.ssl-images-amazon.com/images...</td>\n",
              "      <td>amazonbasics/hl002619,amazonbasicsaaaperforman...</td>\n",
              "      <td>...</td>\n",
              "      <td>NaN</td>\n",
              "      <td>NaN</td>\n",
              "      <td>NaN</td>\n",
              "      <td>NaN</td>\n",
              "      <td>4</td>\n",
              "      <td>https://www.amazon.com/product-reviews/B00QWO9...</td>\n",
              "      <td>Bulk is always the less expensive way to go fo...</td>\n",
              "      <td>... always the less expensive way to go for pr...</td>\n",
              "      <td>ByMG</td>\n",
              "      <td>https://www.barcodable.com/upc/841710106442,ht...</td>\n",
              "    </tr>\n",
              "  </tbody>\n",
              "</table>\n",
              "<p>2 rows × 24 columns</p>\n",
              "</div>\n",
              "      <button class=\"colab-df-convert\" onclick=\"convertToInteractive('df-aef3e0ac-2be5-4d7d-aaf4-14132cc605b3')\"\n",
              "              title=\"Convert this dataframe to an interactive table.\"\n",
              "              style=\"display:none;\">\n",
              "\n",
              "  <svg xmlns=\"http://www.w3.org/2000/svg\" height=\"24px\"viewBox=\"0 0 24 24\"\n",
              "       width=\"24px\">\n",
              "    <path d=\"M0 0h24v24H0V0z\" fill=\"none\"/>\n",
              "    <path d=\"M18.56 5.44l.94 2.06.94-2.06 2.06-.94-2.06-.94-.94-2.06-.94 2.06-2.06.94zm-11 1L8.5 8.5l.94-2.06 2.06-.94-2.06-.94L8.5 2.5l-.94 2.06-2.06.94zm10 10l.94 2.06.94-2.06 2.06-.94-2.06-.94-.94-2.06-.94 2.06-2.06.94z\"/><path d=\"M17.41 7.96l-1.37-1.37c-.4-.4-.92-.59-1.43-.59-.52 0-1.04.2-1.43.59L10.3 9.45l-7.72 7.72c-.78.78-.78 2.05 0 2.83L4 21.41c.39.39.9.59 1.41.59.51 0 1.02-.2 1.41-.59l7.78-7.78 2.81-2.81c.8-.78.8-2.07 0-2.86zM5.41 20L4 18.59l7.72-7.72 1.47 1.35L5.41 20z\"/>\n",
              "  </svg>\n",
              "      </button>\n",
              "\n",
              "\n",
              "\n",
              "    <div id=\"df-470f34f9-bf9d-42ae-9225-dc13a1919f71\">\n",
              "      <button class=\"colab-df-quickchart\" onclick=\"quickchart('df-470f34f9-bf9d-42ae-9225-dc13a1919f71')\"\n",
              "              title=\"Suggest charts.\"\n",
              "              style=\"display:none;\">\n",
              "\n",
              "<svg xmlns=\"http://www.w3.org/2000/svg\" height=\"24px\"viewBox=\"0 0 24 24\"\n",
              "     width=\"24px\">\n",
              "    <g>\n",
              "        <path d=\"M19 3H5c-1.1 0-2 .9-2 2v14c0 1.1.9 2 2 2h14c1.1 0 2-.9 2-2V5c0-1.1-.9-2-2-2zM9 17H7v-7h2v7zm4 0h-2V7h2v10zm4 0h-2v-4h2v4z\"/>\n",
              "    </g>\n",
              "</svg>\n",
              "      </button>\n",
              "    </div>\n",
              "\n",
              "<style>\n",
              "  .colab-df-quickchart {\n",
              "    background-color: #E8F0FE;\n",
              "    border: none;\n",
              "    border-radius: 50%;\n",
              "    cursor: pointer;\n",
              "    display: none;\n",
              "    fill: #1967D2;\n",
              "    height: 32px;\n",
              "    padding: 0 0 0 0;\n",
              "    width: 32px;\n",
              "  }\n",
              "\n",
              "  .colab-df-quickchart:hover {\n",
              "    background-color: #E2EBFA;\n",
              "    box-shadow: 0px 1px 2px rgba(60, 64, 67, 0.3), 0px 1px 3px 1px rgba(60, 64, 67, 0.15);\n",
              "    fill: #174EA6;\n",
              "  }\n",
              "\n",
              "  [theme=dark] .colab-df-quickchart {\n",
              "    background-color: #3B4455;\n",
              "    fill: #D2E3FC;\n",
              "  }\n",
              "\n",
              "  [theme=dark] .colab-df-quickchart:hover {\n",
              "    background-color: #434B5C;\n",
              "    box-shadow: 0px 1px 3px 1px rgba(0, 0, 0, 0.15);\n",
              "    filter: drop-shadow(0px 1px 2px rgba(0, 0, 0, 0.3));\n",
              "    fill: #FFFFFF;\n",
              "  }\n",
              "</style>\n",
              "\n",
              "    <script>\n",
              "      async function quickchart(key) {\n",
              "        const containerElement = document.querySelector('#' + key);\n",
              "        const charts = await google.colab.kernel.invokeFunction(\n",
              "            'suggestCharts', [key], {});\n",
              "      }\n",
              "    </script>\n",
              "\n",
              "      <script>\n",
              "\n",
              "function displayQuickchartButton(domScope) {\n",
              "  let quickchartButtonEl =\n",
              "    domScope.querySelector('#df-470f34f9-bf9d-42ae-9225-dc13a1919f71 button.colab-df-quickchart');\n",
              "  quickchartButtonEl.style.display =\n",
              "    google.colab.kernel.accessAllowed ? 'block' : 'none';\n",
              "}\n",
              "\n",
              "        displayQuickchartButton(document);\n",
              "      </script>\n",
              "      <style>\n",
              "    .colab-df-container {\n",
              "      display:flex;\n",
              "      flex-wrap:wrap;\n",
              "      gap: 12px;\n",
              "    }\n",
              "\n",
              "    .colab-df-convert {\n",
              "      background-color: #E8F0FE;\n",
              "      border: none;\n",
              "      border-radius: 50%;\n",
              "      cursor: pointer;\n",
              "      display: none;\n",
              "      fill: #1967D2;\n",
              "      height: 32px;\n",
              "      padding: 0 0 0 0;\n",
              "      width: 32px;\n",
              "    }\n",
              "\n",
              "    .colab-df-convert:hover {\n",
              "      background-color: #E2EBFA;\n",
              "      box-shadow: 0px 1px 2px rgba(60, 64, 67, 0.3), 0px 1px 3px 1px rgba(60, 64, 67, 0.15);\n",
              "      fill: #174EA6;\n",
              "    }\n",
              "\n",
              "    [theme=dark] .colab-df-convert {\n",
              "      background-color: #3B4455;\n",
              "      fill: #D2E3FC;\n",
              "    }\n",
              "\n",
              "    [theme=dark] .colab-df-convert:hover {\n",
              "      background-color: #434B5C;\n",
              "      box-shadow: 0px 1px 3px 1px rgba(0, 0, 0, 0.15);\n",
              "      filter: drop-shadow(0px 1px 2px rgba(0, 0, 0, 0.3));\n",
              "      fill: #FFFFFF;\n",
              "    }\n",
              "  </style>\n",
              "\n",
              "      <script>\n",
              "        const buttonEl =\n",
              "          document.querySelector('#df-aef3e0ac-2be5-4d7d-aaf4-14132cc605b3 button.colab-df-convert');\n",
              "        buttonEl.style.display =\n",
              "          google.colab.kernel.accessAllowed ? 'block' : 'none';\n",
              "\n",
              "        async function convertToInteractive(key) {\n",
              "          const element = document.querySelector('#df-aef3e0ac-2be5-4d7d-aaf4-14132cc605b3');\n",
              "          const dataTable =\n",
              "            await google.colab.kernel.invokeFunction('convertToInteractive',\n",
              "                                                     [key], {});\n",
              "          if (!dataTable) return;\n",
              "\n",
              "          const docLinkHtml = 'Like what you see? Visit the ' +\n",
              "            '<a target=\"_blank\" href=https://colab.research.google.com/notebooks/data_table.ipynb>data table notebook</a>'\n",
              "            + ' to learn more about interactive tables.';\n",
              "          element.innerHTML = '';\n",
              "          dataTable['output_type'] = 'display_data';\n",
              "          await google.colab.output.renderOutput(dataTable, element);\n",
              "          const docLink = document.createElement('div');\n",
              "          docLink.innerHTML = docLinkHtml;\n",
              "          element.appendChild(docLink);\n",
              "        }\n",
              "      </script>\n",
              "    </div>\n",
              "  </div>\n"
            ]
          },
          "metadata": {},
          "execution_count": 5
        }
      ]
    },
    {
      "cell_type": "markdown",
      "metadata": {
        "id": "kdwr6x8PzGd7"
      },
      "source": [
        "----\n",
        "\n",
        "### Clean data\n",
        "\n",
        "- Create a function called `clean_data` that uses regex expressions to clean your data in preparation for the vectorizer.\n",
        "\n",
        "- Save the clean text data to a column in your dataframe named `clean_text`\n",
        "\n",
        "- Feel free to re-use old code that you have written in previous modules  "
      ]
    },
    {
      "cell_type": "code",
      "metadata": {
        "colab": {
          "base_uri": "https://localhost:8080/"
        },
        "id": "g5cL1Amq8iT_",
        "outputId": "52e2406d-c14c-418b-a25f-90a8f127e5c4"
      },
      "source": [
        "df.shape"
      ],
      "execution_count": 6,
      "outputs": [
        {
          "output_type": "execute_result",
          "data": {
            "text/plain": [
              "(28332, 24)"
            ]
          },
          "metadata": {},
          "execution_count": 6
        }
      ]
    },
    {
      "cell_type": "code",
      "metadata": {
        "colab": {
          "base_uri": "https://localhost:8080/",
          "height": 35
        },
        "id": "dgW6kglx8T_l",
        "outputId": "c257c3f4-cea5-43ef-f67c-44693b9ae6b5"
      },
      "source": [
        "df['reviews.text'][8505]"
      ],
      "execution_count": 7,
      "outputs": [
        {
          "output_type": "execute_result",
          "data": {
            "text/plain": [
              "'Have had zero issues with longevity or voltage. As good as the major brand batteries'"
            ],
            "application/vnd.google.colaboratory.intrinsic+json": {
              "type": "string"
            }
          },
          "metadata": {},
          "execution_count": 7
        }
      ]
    },
    {
      "cell_type": "code",
      "metadata": {
        "deletable": false,
        "nbgrader": {
          "cell_type": "code",
          "checksum": "a2513c0ebd04cf8645fe0a1feb1e1a36",
          "grade": false,
          "grade_id": "cell-fa0950cfe5ef7725",
          "locked": false,
          "schema_version": 3,
          "solution": true,
          "task": false
        },
        "id": "4xo_hkHKzGd7"
      },
      "source": [
        "import re\n",
        "import string\n",
        "\n",
        "def clean_data(text):\n",
        "  \"\"\"\n",
        "  Cleans data to remove unwanted characters and punctuation.\n",
        "  \"\"\"\n",
        " # YOUR CODE HERE\n",
        "\n",
        "  # Remove URLS\n",
        "  text = re.sub(r'http\\S+|www\\S+|https|S+', '', text, flags=re.MULTILINE)\n",
        "  # Remove user @ references and '#' from text\n",
        "  text = re.sub(r'\\@\\w+|\\#','', text)\n",
        "  # Remove punctuations\n",
        "  text = text.translate(str.maketrans('','', string.punctuation))\n",
        "  # Convert text to lowercase\n",
        "  text = text.lower()\n",
        "  return text"
      ],
      "execution_count": 14,
      "outputs": []
    },
    {
      "cell_type": "code",
      "metadata": {
        "deletable": false,
        "nbgrader": {
          "cell_type": "code",
          "checksum": "a6ceefe5476e71efcb3d36c3e203616f",
          "grade": false,
          "grade_id": "cell-5b8e2bc0f9a745f3",
          "locked": false,
          "schema_version": 3,
          "solution": true,
          "task": false
        },
        "id": "H693L3fJzGd8"
      },
      "source": [
        "# create a clean_text column by applying  clean_data to your text\n",
        "df['clean_text'] = df['reviews.text'].apply(clean_data)"
      ],
      "execution_count": 15,
      "outputs": []
    },
    {
      "cell_type": "code",
      "metadata": {
        "id": "5FMvAhkBzGd8"
      },
      "source": [
        "alphebetical_chars = [\"ABCDEFGHIJKLMNOP\"]\n",
        "# check if any of these alphabetical chars exist in your clean chars\n",
        "assert df.clean_text.isin(alphebetical_chars).sum() == 0, \"Did you case normalize your text inside of your clean_data function?\""
      ],
      "execution_count": 16,
      "outputs": []
    },
    {
      "cell_type": "markdown",
      "metadata": {
        "id": "kzqt1ainzGd8"
      },
      "source": [
        "------\n",
        "\n",
        "## Determine number of topics\n",
        "\n",
        "We are going to run an experiment to determine how many topics exists within the `primaryCategories` of `Electronics`. This is the largest primary category containing nearly 14K documents, so we should have plenty of data.\n",
        "\n",
        "Just as we did in the guided project, we'll be running a gridseach over the number of topics and scoring each model using the Coherence metric to determine which number of topics we should use.\n"
      ]
    },
    {
      "cell_type": "code",
      "metadata": {
        "id": "3jrHewGbzGd9"
      },
      "source": [
        "# create a mask for docs that are in the Electronics primaryCategories - save result to `electronics_mask`\n",
        "electronics_mask = df.primaryCategories.isin([\"Electronics\"])\n",
        "\n",
        "# use mask to select all the documents in the Electronics primaryCategories - save result to `df_electronics`\n",
        "df_electronics = df[electronics_mask]"
      ],
      "execution_count": 19,
      "outputs": []
    },
    {
      "cell_type": "code",
      "metadata": {
        "colab": {
          "base_uri": "https://localhost:8080/",
          "height": 480
        },
        "id": "peb18zW3zGd9",
        "outputId": "dc3eb2b0-1cb8-4662-c8f0-7d66a8f20432"
      },
      "source": [
        "df_electronics.head(3)"
      ],
      "execution_count": 24,
      "outputs": [
        {
          "output_type": "execute_result",
          "data": {
            "text/plain": [
              "                        id             dateAdded           dateUpdated  \\\n",
              "8343  AVpe7nGV1cnluZ0-aG2o  2014-10-28T11:14:38Z  2019-04-25T09:05:28Z   \n",
              "8344  AVpe7nGV1cnluZ0-aG2o  2014-10-28T11:14:38Z  2019-04-25T09:05:28Z   \n",
              "8345  AVpe7nGV1cnluZ0-aG2o  2014-10-28T11:14:38Z  2019-04-25T09:05:28Z   \n",
              "\n",
              "                                                 name                  asins  \\\n",
              "8343  AmazonBasics Nylon CD/DVD Binder (400 Capacity)  B00DIHVMEA,B00EZ1ZTV0   \n",
              "8344  AmazonBasics Nylon CD/DVD Binder (400 Capacity)  B00DIHVMEA,B00EZ1ZTV0   \n",
              "8345  AmazonBasics Nylon CD/DVD Binder (400 Capacity)  B00DIHVMEA,B00EZ1ZTV0   \n",
              "\n",
              "             brand                                         categories  \\\n",
              "8343  Amazonbasics  Audio & Video Accessories,TV, Video & Home Aud...   \n",
              "8344  Amazonbasics  Audio & Video Accessories,TV, Video & Home Aud...   \n",
              "8345  Amazonbasics  Audio & Video Accessories,TV, Video & Home Aud...   \n",
              "\n",
              "     primaryCategories                                          imageURLs  \\\n",
              "8343       Electronics  http://ecx.images-amazon.com/images/I/41jQha7Z...   \n",
              "8344       Electronics  http://ecx.images-amazon.com/images/I/41jQha7Z...   \n",
              "8345       Electronics  http://ecx.images-amazon.com/images/I/41jQha7Z...   \n",
              "\n",
              "                                                   keys  ...  \\\n",
              "8343  amazonbasicsnyloncddvdbinder400capacity/b00ez1...  ...   \n",
              "8344  amazonbasicsnyloncddvdbinder400capacity/b00ez1...  ...   \n",
              "8345  amazonbasicsnyloncddvdbinder400capacity/b00ez1...  ...   \n",
              "\n",
              "     reviews.doRecommend reviews.id reviews.numHelpful reviews.rating  \\\n",
              "8343                 NaN        NaN                NaN              5   \n",
              "8344                 NaN        NaN                NaN              5   \n",
              "8345                 NaN        NaN                NaN              5   \n",
              "\n",
              "                                     reviews.sourceURLs  \\\n",
              "8343  https://www.ebay.com/itm/Amazonbasics-Nylon-Cd...   \n",
              "8344  http://www.amazon.co.uk/gp/product-reviews/B00...   \n",
              "8345  https://www.ebay.com/itm/Amazonbasics-Nylon-Cd...   \n",
              "\n",
              "                                           reviews.text  \\\n",
              "8343  Great case to keep everything in its place! My...   \n",
              "8344  After discarding and getting rid of broken cd ...   \n",
              "8345     A few dollars more, but I am boycotting amazon   \n",
              "\n",
              "                     reviews.title  reviews.username  \\\n",
              "8343             Excellent product           qs341_5   \n",
              "8344  It was a much needed storage          Diablita   \n",
              "8345               it was worth it  coldbloodblazing   \n",
              "\n",
              "                                             sourceURLs  \\\n",
              "8343  https://www.ebay.com/itm/AmazonBasics-Nylon-CD...   \n",
              "8344  https://www.ebay.com/itm/AmazonBasics-Nylon-CD...   \n",
              "8345  https://www.ebay.com/itm/AmazonBasics-Nylon-CD...   \n",
              "\n",
              "                                             clean_text  \n",
              "8343  great case to keep everything in its place my ...  \n",
              "8344  after discarding and getting rid of broken cd ...  \n",
              "8345      a few dollars more but i am boycotting amazon  \n",
              "\n",
              "[3 rows x 25 columns]"
            ],
            "text/html": [
              "\n",
              "\n",
              "  <div id=\"df-22401f70-b0f5-4392-a514-46a44fe4b7d6\">\n",
              "    <div class=\"colab-df-container\">\n",
              "      <div>\n",
              "<style scoped>\n",
              "    .dataframe tbody tr th:only-of-type {\n",
              "        vertical-align: middle;\n",
              "    }\n",
              "\n",
              "    .dataframe tbody tr th {\n",
              "        vertical-align: top;\n",
              "    }\n",
              "\n",
              "    .dataframe thead th {\n",
              "        text-align: right;\n",
              "    }\n",
              "</style>\n",
              "<table border=\"1\" class=\"dataframe\">\n",
              "  <thead>\n",
              "    <tr style=\"text-align: right;\">\n",
              "      <th></th>\n",
              "      <th>id</th>\n",
              "      <th>dateAdded</th>\n",
              "      <th>dateUpdated</th>\n",
              "      <th>name</th>\n",
              "      <th>asins</th>\n",
              "      <th>brand</th>\n",
              "      <th>categories</th>\n",
              "      <th>primaryCategories</th>\n",
              "      <th>imageURLs</th>\n",
              "      <th>keys</th>\n",
              "      <th>...</th>\n",
              "      <th>reviews.doRecommend</th>\n",
              "      <th>reviews.id</th>\n",
              "      <th>reviews.numHelpful</th>\n",
              "      <th>reviews.rating</th>\n",
              "      <th>reviews.sourceURLs</th>\n",
              "      <th>reviews.text</th>\n",
              "      <th>reviews.title</th>\n",
              "      <th>reviews.username</th>\n",
              "      <th>sourceURLs</th>\n",
              "      <th>clean_text</th>\n",
              "    </tr>\n",
              "  </thead>\n",
              "  <tbody>\n",
              "    <tr>\n",
              "      <th>8343</th>\n",
              "      <td>AVpe7nGV1cnluZ0-aG2o</td>\n",
              "      <td>2014-10-28T11:14:38Z</td>\n",
              "      <td>2019-04-25T09:05:28Z</td>\n",
              "      <td>AmazonBasics Nylon CD/DVD Binder (400 Capacity)</td>\n",
              "      <td>B00DIHVMEA,B00EZ1ZTV0</td>\n",
              "      <td>Amazonbasics</td>\n",
              "      <td>Audio &amp; Video Accessories,TV, Video &amp; Home Aud...</td>\n",
              "      <td>Electronics</td>\n",
              "      <td>http://ecx.images-amazon.com/images/I/41jQha7Z...</td>\n",
              "      <td>amazonbasicsnyloncddvdbinder400capacity/b00ez1...</td>\n",
              "      <td>...</td>\n",
              "      <td>NaN</td>\n",
              "      <td>NaN</td>\n",
              "      <td>NaN</td>\n",
              "      <td>5</td>\n",
              "      <td>https://www.ebay.com/itm/Amazonbasics-Nylon-Cd...</td>\n",
              "      <td>Great case to keep everything in its place! My...</td>\n",
              "      <td>Excellent product</td>\n",
              "      <td>qs341_5</td>\n",
              "      <td>https://www.ebay.com/itm/AmazonBasics-Nylon-CD...</td>\n",
              "      <td>great case to keep everything in its place my ...</td>\n",
              "    </tr>\n",
              "    <tr>\n",
              "      <th>8344</th>\n",
              "      <td>AVpe7nGV1cnluZ0-aG2o</td>\n",
              "      <td>2014-10-28T11:14:38Z</td>\n",
              "      <td>2019-04-25T09:05:28Z</td>\n",
              "      <td>AmazonBasics Nylon CD/DVD Binder (400 Capacity)</td>\n",
              "      <td>B00DIHVMEA,B00EZ1ZTV0</td>\n",
              "      <td>Amazonbasics</td>\n",
              "      <td>Audio &amp; Video Accessories,TV, Video &amp; Home Aud...</td>\n",
              "      <td>Electronics</td>\n",
              "      <td>http://ecx.images-amazon.com/images/I/41jQha7Z...</td>\n",
              "      <td>amazonbasicsnyloncddvdbinder400capacity/b00ez1...</td>\n",
              "      <td>...</td>\n",
              "      <td>NaN</td>\n",
              "      <td>NaN</td>\n",
              "      <td>NaN</td>\n",
              "      <td>5</td>\n",
              "      <td>http://www.amazon.co.uk/gp/product-reviews/B00...</td>\n",
              "      <td>After discarding and getting rid of broken cd ...</td>\n",
              "      <td>It was a much needed storage</td>\n",
              "      <td>Diablita</td>\n",
              "      <td>https://www.ebay.com/itm/AmazonBasics-Nylon-CD...</td>\n",
              "      <td>after discarding and getting rid of broken cd ...</td>\n",
              "    </tr>\n",
              "    <tr>\n",
              "      <th>8345</th>\n",
              "      <td>AVpe7nGV1cnluZ0-aG2o</td>\n",
              "      <td>2014-10-28T11:14:38Z</td>\n",
              "      <td>2019-04-25T09:05:28Z</td>\n",
              "      <td>AmazonBasics Nylon CD/DVD Binder (400 Capacity)</td>\n",
              "      <td>B00DIHVMEA,B00EZ1ZTV0</td>\n",
              "      <td>Amazonbasics</td>\n",
              "      <td>Audio &amp; Video Accessories,TV, Video &amp; Home Aud...</td>\n",
              "      <td>Electronics</td>\n",
              "      <td>http://ecx.images-amazon.com/images/I/41jQha7Z...</td>\n",
              "      <td>amazonbasicsnyloncddvdbinder400capacity/b00ez1...</td>\n",
              "      <td>...</td>\n",
              "      <td>NaN</td>\n",
              "      <td>NaN</td>\n",
              "      <td>NaN</td>\n",
              "      <td>5</td>\n",
              "      <td>https://www.ebay.com/itm/Amazonbasics-Nylon-Cd...</td>\n",
              "      <td>A few dollars more, but I am boycotting amazon</td>\n",
              "      <td>it was worth it</td>\n",
              "      <td>coldbloodblazing</td>\n",
              "      <td>https://www.ebay.com/itm/AmazonBasics-Nylon-CD...</td>\n",
              "      <td>a few dollars more but i am boycotting amazon</td>\n",
              "    </tr>\n",
              "  </tbody>\n",
              "</table>\n",
              "<p>3 rows × 25 columns</p>\n",
              "</div>\n",
              "      <button class=\"colab-df-convert\" onclick=\"convertToInteractive('df-22401f70-b0f5-4392-a514-46a44fe4b7d6')\"\n",
              "              title=\"Convert this dataframe to an interactive table.\"\n",
              "              style=\"display:none;\">\n",
              "\n",
              "  <svg xmlns=\"http://www.w3.org/2000/svg\" height=\"24px\"viewBox=\"0 0 24 24\"\n",
              "       width=\"24px\">\n",
              "    <path d=\"M0 0h24v24H0V0z\" fill=\"none\"/>\n",
              "    <path d=\"M18.56 5.44l.94 2.06.94-2.06 2.06-.94-2.06-.94-.94-2.06-.94 2.06-2.06.94zm-11 1L8.5 8.5l.94-2.06 2.06-.94-2.06-.94L8.5 2.5l-.94 2.06-2.06.94zm10 10l.94 2.06.94-2.06 2.06-.94-2.06-.94-.94-2.06-.94 2.06-2.06.94z\"/><path d=\"M17.41 7.96l-1.37-1.37c-.4-.4-.92-.59-1.43-.59-.52 0-1.04.2-1.43.59L10.3 9.45l-7.72 7.72c-.78.78-.78 2.05 0 2.83L4 21.41c.39.39.9.59 1.41.59.51 0 1.02-.2 1.41-.59l7.78-7.78 2.81-2.81c.8-.78.8-2.07 0-2.86zM5.41 20L4 18.59l7.72-7.72 1.47 1.35L5.41 20z\"/>\n",
              "  </svg>\n",
              "      </button>\n",
              "\n",
              "\n",
              "\n",
              "    <div id=\"df-947df1cb-d9ba-420b-bc6e-ccc775979429\">\n",
              "      <button class=\"colab-df-quickchart\" onclick=\"quickchart('df-947df1cb-d9ba-420b-bc6e-ccc775979429')\"\n",
              "              title=\"Suggest charts.\"\n",
              "              style=\"display:none;\">\n",
              "\n",
              "<svg xmlns=\"http://www.w3.org/2000/svg\" height=\"24px\"viewBox=\"0 0 24 24\"\n",
              "     width=\"24px\">\n",
              "    <g>\n",
              "        <path d=\"M19 3H5c-1.1 0-2 .9-2 2v14c0 1.1.9 2 2 2h14c1.1 0 2-.9 2-2V5c0-1.1-.9-2-2-2zM9 17H7v-7h2v7zm4 0h-2V7h2v10zm4 0h-2v-4h2v4z\"/>\n",
              "    </g>\n",
              "</svg>\n",
              "      </button>\n",
              "    </div>\n",
              "\n",
              "<style>\n",
              "  .colab-df-quickchart {\n",
              "    background-color: #E8F0FE;\n",
              "    border: none;\n",
              "    border-radius: 50%;\n",
              "    cursor: pointer;\n",
              "    display: none;\n",
              "    fill: #1967D2;\n",
              "    height: 32px;\n",
              "    padding: 0 0 0 0;\n",
              "    width: 32px;\n",
              "  }\n",
              "\n",
              "  .colab-df-quickchart:hover {\n",
              "    background-color: #E2EBFA;\n",
              "    box-shadow: 0px 1px 2px rgba(60, 64, 67, 0.3), 0px 1px 3px 1px rgba(60, 64, 67, 0.15);\n",
              "    fill: #174EA6;\n",
              "  }\n",
              "\n",
              "  [theme=dark] .colab-df-quickchart {\n",
              "    background-color: #3B4455;\n",
              "    fill: #D2E3FC;\n",
              "  }\n",
              "\n",
              "  [theme=dark] .colab-df-quickchart:hover {\n",
              "    background-color: #434B5C;\n",
              "    box-shadow: 0px 1px 3px 1px rgba(0, 0, 0, 0.15);\n",
              "    filter: drop-shadow(0px 1px 2px rgba(0, 0, 0, 0.3));\n",
              "    fill: #FFFFFF;\n",
              "  }\n",
              "</style>\n",
              "\n",
              "    <script>\n",
              "      async function quickchart(key) {\n",
              "        const containerElement = document.querySelector('#' + key);\n",
              "        const charts = await google.colab.kernel.invokeFunction(\n",
              "            'suggestCharts', [key], {});\n",
              "      }\n",
              "    </script>\n",
              "\n",
              "      <script>\n",
              "\n",
              "function displayQuickchartButton(domScope) {\n",
              "  let quickchartButtonEl =\n",
              "    domScope.querySelector('#df-947df1cb-d9ba-420b-bc6e-ccc775979429 button.colab-df-quickchart');\n",
              "  quickchartButtonEl.style.display =\n",
              "    google.colab.kernel.accessAllowed ? 'block' : 'none';\n",
              "}\n",
              "\n",
              "        displayQuickchartButton(document);\n",
              "      </script>\n",
              "      <style>\n",
              "    .colab-df-container {\n",
              "      display:flex;\n",
              "      flex-wrap:wrap;\n",
              "      gap: 12px;\n",
              "    }\n",
              "\n",
              "    .colab-df-convert {\n",
              "      background-color: #E8F0FE;\n",
              "      border: none;\n",
              "      border-radius: 50%;\n",
              "      cursor: pointer;\n",
              "      display: none;\n",
              "      fill: #1967D2;\n",
              "      height: 32px;\n",
              "      padding: 0 0 0 0;\n",
              "      width: 32px;\n",
              "    }\n",
              "\n",
              "    .colab-df-convert:hover {\n",
              "      background-color: #E2EBFA;\n",
              "      box-shadow: 0px 1px 2px rgba(60, 64, 67, 0.3), 0px 1px 3px 1px rgba(60, 64, 67, 0.15);\n",
              "      fill: #174EA6;\n",
              "    }\n",
              "\n",
              "    [theme=dark] .colab-df-convert {\n",
              "      background-color: #3B4455;\n",
              "      fill: #D2E3FC;\n",
              "    }\n",
              "\n",
              "    [theme=dark] .colab-df-convert:hover {\n",
              "      background-color: #434B5C;\n",
              "      box-shadow: 0px 1px 3px 1px rgba(0, 0, 0, 0.15);\n",
              "      filter: drop-shadow(0px 1px 2px rgba(0, 0, 0, 0.3));\n",
              "      fill: #FFFFFF;\n",
              "    }\n",
              "  </style>\n",
              "\n",
              "      <script>\n",
              "        const buttonEl =\n",
              "          document.querySelector('#df-22401f70-b0f5-4392-a514-46a44fe4b7d6 button.colab-df-convert');\n",
              "        buttonEl.style.display =\n",
              "          google.colab.kernel.accessAllowed ? 'block' : 'none';\n",
              "\n",
              "        async function convertToInteractive(key) {\n",
              "          const element = document.querySelector('#df-22401f70-b0f5-4392-a514-46a44fe4b7d6');\n",
              "          const dataTable =\n",
              "            await google.colab.kernel.invokeFunction('convertToInteractive',\n",
              "                                                     [key], {});\n",
              "          if (!dataTable) return;\n",
              "\n",
              "          const docLinkHtml = 'Like what you see? Visit the ' +\n",
              "            '<a target=\"_blank\" href=https://colab.research.google.com/notebooks/data_table.ipynb>data table notebook</a>'\n",
              "            + ' to learn more about interactive tables.';\n",
              "          element.innerHTML = '';\n",
              "          dataTable['output_type'] = 'display_data';\n",
              "          await google.colab.output.renderOutput(dataTable, element);\n",
              "          const docLink = document.createElement('div');\n",
              "          docLink.innerHTML = docLinkHtml;\n",
              "          element.appendChild(docLink);\n",
              "        }\n",
              "      </script>\n",
              "    </div>\n",
              "  </div>\n"
            ]
          },
          "metadata": {},
          "execution_count": 24
        }
      ]
    },
    {
      "cell_type": "markdown",
      "metadata": {
        "id": "FfZWF0I9zGd-"
      },
      "source": [
        "------\n",
        "### Tokenize your documents\n",
        "\n",
        "Remember that you'll need to use the [**corpora**](https://radimrehurek.com/gensim/corpora/dictionary.html) class from the Gensim library. So definitely check out the docs to learn more about this tool. There is an example on how to do this in the guided project.\n",
        "\n",
        "But before we can use the [**corpora**](https://radimrehurek.com/gensim/corpora/dictionary.html) class, we must first tokenize our articles.\n",
        "\n"
      ]
    },
    {
      "cell_type": "code",
      "metadata": {
        "id": "2rAMfVfB1PS-"
      },
      "source": [
        "import multiprocessing\n",
        "from gensim import corpora\n",
        "\n",
        "# identify how many processors your machine has - save the result to `n_processors`\n",
        "n_processors = multiprocessing.cpu_count()\n",
        "\n",
        "# subtract 1 from n_processors - save the result to `nb_workers`\n",
        "nb_workers = n_processors - 1\n",
        "\n",
        "# initialize just like we did in the guided project\n"
      ],
      "execution_count": 25,
      "outputs": []
    },
    {
      "cell_type": "code",
      "metadata": {
        "id": "t6pNnk3vzGd-"
      },
      "source": [
        "# load in the spaCy language model\n",
        "nlp = spacy.load(\"en_core_web_md\")"
      ],
      "execution_count": 26,
      "outputs": []
    },
    {
      "cell_type": "code",
      "metadata": {
        "id": "05x-KJPIBQa2",
        "colab": {
          "base_uri": "https://localhost:8080/"
        },
        "outputId": "df5c7c78-dd40-43fa-ca65-2440544cffad"
      },
      "source": [
        "%%time\n",
        "# create our tokens in the form of lemmas\n",
        "df_electronics['lemmas'] = df_electronics['clean_text'].apply(lambda x: [token.lemma_ for token in nlp(x) if (token.is_stop != True) and (token.is_punct != True)])"
      ],
      "execution_count": 27,
      "outputs": [
        {
          "output_type": "stream",
          "name": "stdout",
          "text": [
            "CPU times: user 2min 39s, sys: 515 ms, total: 2min 40s\n",
            "Wall time: 2min 47s\n"
          ]
        }
      ]
    },
    {
      "cell_type": "markdown",
      "metadata": {
        "id": "WS7vTVqnzGd_"
      },
      "source": [
        "### Use the corpora class to prep your data for LDA\n",
        "\n",
        "You'll need to create the same `id2word` and `corpus` objects that we created in the guided projects. So be sure to reference the guided project notebook if you need to."
      ]
    },
    {
      "cell_type": "code",
      "metadata": {
        "deletable": false,
        "nbgrader": {
          "cell_type": "code",
          "checksum": "53bf811aebb39e7ed6fc592851f82f8b",
          "grade": false,
          "grade_id": "cell-9d92f28649aa999e",
          "locked": false,
          "schema_version": 3,
          "solution": true,
          "task": false
        },
        "id": "7paL9zS7zGd_"
      },
      "source": [
        "# Create lemma dictionary using Dictionary - save result to `id2word` --id2word is a Gensim dictionary that maps every word to an id.\n",
        "id2word =corpora.Dictionary(df_electronics['lemmas'])\n",
        "\n",
        "'''\n",
        "The corpora.Dictionary function creates a mapping with an ID for each word. The next step is to use the doc2bow method for each document\n",
        "to convert words to their respective IDs and count the frequency of each word. This will create the corpus, a list of vectors equal to the\n",
        "number of documents, where each vector has a series of tuples. Each tuple refers to an ID from the dictionary and its frequency in the document.\n",
        "Here is how you can do it:\n",
        "'''\n",
        "# Create Term Document Frequency list - save result to `corpus`\n",
        "corpus = [id2word.doc2bow(text) for text in df_electronics['lemmas']] # corpus is a list of vectors where each vector represents a document. In each vector, each element is a tuple of a word id and the frequency of that word in the document.\n"
      ],
      "execution_count": 29,
      "outputs": []
    },
    {
      "cell_type": "markdown",
      "metadata": {
        "id": "vtmHceiazGd_"
      },
      "source": [
        "## Gridsearch the number of topics\n",
        "\n",
        "Just as we did in the guided project, we're going to run a `for` loop over a range of possible number of topics and then plot the `coherence_values` to determine which number of topics leads to the most sensible grouping of documents."
      ]
    },
    {
      "cell_type": "code",
      "metadata": {
        "id": "FBICFYD4zGeA"
      },
      "source": [
        "def compute_coherence_values(dictionary, corpus, texts, limit, start=2, step=3):\n",
        "    \"\"\"\n",
        "    Compute c_v coherence for various number of topics\n",
        "\n",
        "    Parameters:\n",
        "    ----------\n",
        "    dictionary : Gensim dictionary\n",
        "    corpus : Gensim corpus\n",
        "    texts : List of input texts\n",
        "    limit : Max num of topics\n",
        "\n",
        "    Returns:\n",
        "    -------\n",
        "    model_list : List of LDA topic models\n",
        "    coherence_values : Coherence values corresponding to the LDA model with respective number of topics\n",
        "    \"\"\"\n",
        "    coherence_values = []\n",
        "    model_list = []\n",
        "    for num_topics in range(start, limit, step):\n",
        "        model = gensim.models.ldamulticore.LdaMulticore(corpus=corpus,\n",
        "                                                        id2word=id2word,\n",
        "                                                        num_topics=num_topics,\n",
        "                                                        chunksize=100,\n",
        "                                                        passes=10,\n",
        "                                                        random_state=1234,\n",
        "                                                        per_word_topics=True,\n",
        "                                                        workers=2)\n",
        "        model_list.append(model)\n",
        "        coherencemodel = CoherenceModel(model=model, texts=texts, dictionary=dictionary, coherence='c_v')\n",
        "        coherence_values.append(coherencemodel.get_coherence())\n",
        "\n",
        "    return model_list, coherence_values"
      ],
      "execution_count": 30,
      "outputs": []
    },
    {
      "cell_type": "code",
      "metadata": {
        "id": "Nn20KdDl2HUR",
        "colab": {
          "base_uri": "https://localhost:8080/"
        },
        "outputId": "85f383e9-5b1a-4316-8de2-c4034d76cf4e"
      },
      "source": [
        "%%time\n",
        "model_list, coherence_values = compute_coherence_values(dictionary=id2word, corpus=corpus, texts=df_electronics['lemmas'], start=2, limit=16, step=2)"
      ],
      "execution_count": 31,
      "outputs": [
        {
          "output_type": "stream",
          "name": "stdout",
          "text": [
            "CPU times: user 3min 45s, sys: 12.5 s, total: 3min 58s\n",
            "Wall time: 6min 51s\n"
          ]
        }
      ]
    },
    {
      "cell_type": "code",
      "metadata": {
        "id": "k2kJsVLt2P5-",
        "colab": {
          "base_uri": "https://localhost:8080/",
          "height": 487
        },
        "outputId": "5b10098d-3afe-405e-ef18-fb398ec0ed74"
      },
      "source": [
        "start=2; limit=16;  step=2;\n",
        "x = range(start, limit, step)\n",
        "\n",
        "plt.figure(figsize=(20,5))\n",
        "plt.grid()\n",
        "plt.title(\"Coherence Score vs. Number of Topics\")\n",
        "plt.xticks(x)\n",
        "plt.plot(x, coherence_values, \"-o\")\n",
        "\n",
        "plt.xlabel(\"Num Topics\")\n",
        "plt.ylabel(\"Coherence score\")\n",
        "\n",
        "plt.show();"
      ],
      "execution_count": 32,
      "outputs": [
        {
          "output_type": "display_data",
          "data": {
            "text/plain": [
              "<Figure size 2000x500 with 1 Axes>"
            ],
            "image/png": "[encoded data removed]"
          },
          "metadata": {}
        }
      ]
    },
    {
      "cell_type": "code",
      "metadata": {
        "deletable": false,
        "nbgrader": {
          "cell_type": "code",
          "checksum": "45f72ff929ab8b765d0f0b5f35137f0d",
          "grade": false,
          "grade_id": "cell-e97661faebf1ac3c",
          "locked": false,
          "schema_version": 3,
          "solution": true,
          "task": false
        },
        "id": "1Qx7OVX-zGeB",
        "colab": {
          "base_uri": "https://localhost:8080/"
        },
        "outputId": "4e6d007b-30af-4c5f-bb53-b2f18ca623e3"
      },
      "source": [
        "# use np.argmax() to get index of largest coherence value from coherence_values - save result to `max_cohereance_val_index`\n",
        "\n",
        "# use `max_coherence_val_index` to index model_list for the corresponding model - save result to `lda_trained_model`\n",
        "\n",
        "max_coherence_val_index = np.argmax(coherence_values)\n",
        "print(f'Model number {max_coherence_val_index} has the highest coherence value')\n",
        "\n",
        "lda_trained_model = model_list[max_coherence_val_index]\n",
        "\n",
        "# YOUR CODE HERE"
      ],
      "execution_count": 38,
      "outputs": [
        {
          "output_type": "stream",
          "name": "stdout",
          "text": [
            "Model number 4 has the highest coherence value\n"
          ]
        }
      ]
    },
    {
      "cell_type": "code",
      "metadata": {
        "colab": {
          "base_uri": "https://localhost:8080/"
        },
        "id": "7y-wokYcIg9_",
        "outputId": "5e0bc9cd-eb29-4040-ec68-ff92abbd97f7"
      },
      "source": [
        "lda_trained_model.show_topics()"
      ],
      "execution_count": 37,
      "outputs": [
        {
          "output_type": "execute_result",
          "data": {
            "text/plain": [
              "[(0,\n",
              "  '0.084*\"read\" + 0.080*\"book\" + 0.042*\"download\" + 0.039*\"use\" + 0.028*\"easy\" + 0.027*\"internet\" + 0.022*\"watch\" + 0.020*\"app\" + 0.017*\"learn\" + 0.017*\"want\"'),\n",
              " (1,\n",
              "  '0.051*\"buy\" + 0.023*\"purchase\" + 0.020*\"happy\" + 0.019*\" \" + 0.019*\"good\" + 0.017*\"not\" + 0.017*\"grandson\" + 0.016*\"replace\" + 0.013*\"2\" + 0.013*\"time\"'),\n",
              " (2,\n",
              "  '0.068*\"amazon\" + 0.063*\"app\" + 0.037*\"not\" + 0.033*\"play\" + 0.023*\"google\" + 0.022*\"prime\" + 0.022*\"game\" + 0.020*\"store\" + 0.017*\"like\" + 0.014*\"thing\"'),\n",
              " (3,\n",
              "  '0.154*\"kindle\" + 0.091*\"fire\" + 0.046*\"new\" + 0.036*\"old\" + 0.029*\"well\" + 0.024*\"love\" + 0.022*\"7\" + 0.022*\"email\" + 0.019*\"upgrade\" + 0.018*\"light\"'),\n",
              " (4,\n",
              "  '0.087*\"love\" + 0.054*\"buy\" + 0.043*\"great\" + 0.042*\"gift\" + 0.038*\"tablet\" + 0.028*\"christmas\" + 0.026*\"purchase\" + 0.026*\"fire\" + 0.022*\"hd\" + 0.019*\"get\"'),\n",
              " (5,\n",
              "  '0.102*\"tablet\" + 0.086*\"good\" + 0.069*\"price\" + 0.053*\"great\" + 0.032*\"ipad\" + 0.027*\"product\" + 0.027*\"not\" + 0.020*\"need\" + 0.020*\"work\" + 0.017*\"amazon\"'),\n",
              " (6,\n",
              "  '0.039*\"definitely\" + 0.038*\"display\" + 0.035*\"item\" + 0.028*\"hand\" + 0.028*\"worth\" + 0.021*\"system\" + 0.020*\"profile\" + 0.019*\"people\" + 0.018*\"lightweight\" + 0.014*\"budget\"'),\n",
              " (7,\n",
              "  '0.049*\"battery\" + 0.040*\"not\" + 0.039*\"charge\" + 0.034*\"life\" + 0.033*\"long\" + 0.025*\"screen\" + 0.014*\"fine\" + 0.014*\"ad\" + 0.012*\"device\" + 0.012*\"speed\"'),\n",
              " (8,\n",
              "  '0.077*\"tablet\" + 0.070*\"use\" + 0.067*\"great\" + 0.061*\"easy\" + 0.049*\"screen\" + 0.034*\"good\" + 0.031*\"size\" + 0.029*\"nice\" + 0.024*\"fast\" + 0.017*\"like\"'),\n",
              " (9,\n",
              "  '0.072*\"kid\" + 0.065*\"love\" + 0.061*\"tablet\" + 0.050*\"old\" + 0.047*\"year\" + 0.035*\"use\" + 0.033*\"great\" + 0.025*\"daughter\" + 0.025*\"game\" + 0.024*\"easy\"')]"
            ]
          },
          "metadata": {},
          "execution_count": 37
        }
      ]
    },
    {
      "cell_type": "markdown",
      "metadata": {
        "id": "LwGY4o8fzGeB"
      },
      "source": [
        "## Use pyLDAvis to visualize your topics\n",
        "\n",
        "Take a look at the topic bubbles and bar chart for the terms on the right hand side.  \n",
        "\n",
        "- Describe the topic bubbles.\n",
        "- Do they overlap or not?\n",
        "- What does it mean when they overlap?\n",
        "- What does it mean when they don't overlap?\n",
        "- Are the terms in each topic distinct from the topics in the other topic bubbles?\n"
      ]
    },
    {
      "cell_type": "code",
      "metadata": {
        "id": "9poWZ8WgItYS"
      },
      "source": [
        "#!pip install ipywidgets"
      ],
      "execution_count": null,
      "outputs": []
    },
    {
      "cell_type": "code",
      "metadata": {
        "id": "YBqK345s2oYC",
        "colab": {
          "base_uri": "https://localhost:8080/",
          "height": 861
        },
        "outputId": "aa42cf37-4616-405b-f98d-30c9d5932d25"
      },
      "source": [
        "# plot your topics here -- using pyLDAvis\n",
        "# YOUR CODE HERE\n",
        "import pyLDAvis.gensim_models\n",
        "\n",
        "# Prepare the visualization\n",
        "vis = pyLDAvis.gensim_models.prepare(lda_trained_model, corpus, id2word)\n",
        "\n",
        "# Display the visualization\n",
        "pyLDAvis.display(vis)"
      ],
      "execution_count": 36,
      "outputs": [
        {
          "output_type": "execute_result",
          "data": {
            "text/plain": [
              "<IPython.core.display.HTML object>"
            ],
            "text/html": [
              "\n",
              "<link rel=\"stylesheet\" type=\"text/css\" href=\"https://cdn.jsdelivr.net/gh/bmabey/pyLDAvis@3.3.1/pyLDAvis/js/ldavis.v1.0.0.css\">\n",
              "\n",
              "\n",
              "<div id=\"ldavis_el12741338580817068808444218515\"></div>\n",
              "<script type=\"text/javascript\">\n",
              "\n",
              "var ldavis_el12741338580817068808444218515_data = {\"mdsDat\": {\"x\": [0.20035214850403685, 0.025424950743773315, 0.1402300417976596, -0.0761527099774375, 0.1899520170867623, 0.1650717767672473, -0.06131147606022222, -0.0728587060137083, -0.23035726774185647, -0.2803507751062545], \"y\": [0.03518354944411772, -0.07419961406985222, -0.05901896603245671, -0.1854190020319427, 0.01970595935953143, 0.04940761196252, -0.06973868656650546, 0.2999556960538384, -0.19558329964825916, 0.17970675152900858], \"topics\": [1, 2, 3, 4, 5, 6, 7, 8, 9, 10], \"cluster\": [1, 1, 1, 1, 1, 1, 1, 1, 1, 1], \"Freq\": [14.066323601135986, 12.256695599764909, 11.812457870914708, 11.323271812968311, 10.825123947643796, 10.288614059498963, 9.39792164357708, 8.386964581643443, 7.650805700695823, 3.991821182156979]}, \"tinfo\": {\"Term\": [\"kindle\", \"tablet\", \"love\", \"good\", \"kid\", \"fire\", \"book\", \"read\", \"use\", \"price\", \"easy\", \"buy\", \"great\", \"old\", \"amazon\", \"app\", \"screen\", \"year\", \"not\", \"gift\", \"battery\", \"new\", \"download\", \"play\", \"ipad\", \"charge\", \"daughter\", \"life\", \"game\", \"nice\", \"kid\", \"daughter\", \"child\", \"control\", \"parental\", \"memory\", \"slow\", \"age\", \"mother\", \"cost\", \"learning\", \"tech\", \"9\", \"plenty\", \"tool\", \"beginner\", \"freetime\", \"perform\", \"micro\", \"sd\", \"protection\", \"savvy\", \"12\", \"bumper\", \"fall\", \"hulu\", \"additional\", \"benefit\", \"functional\", \"monitor\", \"durable\", \"4\", \"year\", \"son\", \"5\", \"old\", \"6\", \"love\", \"game\", \"set\", \"tablet\", \"use\", \"adult\", \"easy\", \"case\", \"play\", \"great\", \"time\", \"buy\", \"2\", \"get\", \"app\", \"perfect\", \"purchase\", \"enjoy\", \"grandson\", \"replace\", \"warranty\", \"thank\", \"fit\", \"weight\", \"grandkid\", \"nephew\", \"grand\", \"satisfied\", \"dad\", \"protective\", \"ago\", \"customer\", \"generation\", \"safe\", \"blue\", \"alternative\", \"past\", \"128\", \"busy\", \"place\", \"research\", \"step\", \"playing\", \"purse\", \"father\", \"solid\", \"clarity\", \"transfer\", \"happy\", \"pleased\", \"couple\", \"decide\", \"break\", \"experience\", \"buy\", \"drop\", \"come\", \"2\", \"help\", \"3\", \" \", \"problem\", \"purchase\", \"o\", \"m\", \"case\", \"far\", \"think\", \"go\", \"keep\", \"time\", \"good\", \"not\", \"get\", \"year\", \"day\", \"work\", \"need\", \"tablet\", \"like\", \"love\", \"product\", \"user\", \"value\", \"cheap\", \"friendly\", \"expect\", \"basic\", \"highly\", \"expensive\", \"money\", \"compare\", \"decent\", \"mini\", \"exactly\", \"brand\", \"helpful\", \"responsive\", \"handy\", \"disappoint\", \"subscription\", \"selection\", \"reasonable\", \"general\", \"surprised\", \"strong\", \"task\", \"ride\", \"serve\", \"range\", \"throw\", \"versatile\", \"ipad\", \"low\", \"price\", \"good\", \"apple\", \"quality\", \"look\", \"product\", \"netflix\", \"tablet\", \"pretty\", \"overall\", \"recommend\", \"need\", \"great\", \"pay\", \"high\", \"not\", \"want\", \"work\", \"well\", \"amazon\", \"buy\", \"device\", \"google\", \"prime\", \"account\", \"content\", \"fun\", \"youtube\", \"toddler\", \"lock\", \"huge\", \"install\", \"tear\", \"lack\", \"mode\", \"live\", \"believe\", \"unlimited\", \"useful\", \"kids\", \"require\", \"early\", \"disappointed\", \"flight\", \"college\", \"toy\", \"streaming\", \"downside\", \"base\", \"idea\", \"key\", \"loose\", \"available\", \"store\", \"option\", \"amazon\", \"app\", \"load\", \"member\", \"free\", \"play\", \"access\", \"limit\", \"stream\", \"add\", \"not\", \"video\", \"music\", \"movie\", \"thing\", \"game\", \"device\", \"like\", \"need\", \"lot\", \"work\", \"want\", \"great\", \"gift\", \"wife\", \"black\", \"granddaughter\", \"android\", \"friday\", \"mom\", \"surf\", \"present\", \"family\", \"friend\", \"niece\", \"worry\", \"amsung\", \"own\", \"bring\", \"operate\", \"person\", \"improvement\", \"grandchild\", \"functionality\", \"boy\", \"finally\", \"law\", \"die\", \"road\", \"previously\", \"galaxy\", \"pink\", \"girl\", \"christmas\", \"hd\", \"beat\", \"absolutely\", \"birthday\", \"love\", \"movie\", \"hd8\", \"buy\", \"watch\", \"purchase\", \"8\", \"get\", \"great\", \"fire\", \"tablet\", \"amazon\", \"work\", \"price\", \"game\", \"play\", \"not\", \"web\", \"camera\", \"gb\", \"storage\", \"clear\", \"inch\", \"simple\", \"inexpensive\", \"browse\", \"parent\", \"graphic\", \"16\", \"one\", \"processor\", \"everyday\", \"limited\", \"impressed\", \"instal\", \"ram\", \"sturdy\", \"creen\", \"social\", \"buck\", \"activity\", \"surfing\", \"32\", \"alot\", \"pop\", \"g\", \"ilk\", \"picture\", \"size\", \"resolution\", \"screen\", \"nice\", \"fast\", \"easy\", \"small\", \"use\", \"choice\", \"great\", \"little\", \"tablet\", \"good\", \"8\", \" \", \"like\", \"feature\", \"big\", \"set\", \"fire\", \"price\", \"product\", \"work\", \"book\", \"download\", \"internet\", \"educational\", \"library\", \"view\", \"trip\", \"ebook\", \"carry\", \"program\", \"connect\", \"setting\", \"electronic\", \"search\", \"capability\", \"instruction\", \"primarily\", \"annoying\", \"application\", \"news\", \"reliable\", \"lag\", \"magazine\", \"offline\", \"audio\", \"complain\", \"save\", \"underground\", \"personal\", \"win\", \"read\", \"travel\", \"learn\", \"reader\", \"table\", \"wifi\", \"watch\", \"navigate\", \"favorite\", \"use\", \"show\", \"easy\", \"video\", \"want\", \"home\", \"app\", \"perfect\", \"access\", \"able\", \"music\", \"device\", \"great\", \"time\", \"like\", \"kindle\", \"email\", \"upgrade\", \"model\", \"yr\", \"performance\", \"ereader\", \"last\", \"receive\", \"nook\", \"difference\", \"mainly\", \"sharp\", \"excited\", \"convenient\", \"eye\", \"starter\", \"variety\", \"shop\", \"exchange\", \"happen\", \"advertisement\", \"expectation\", \"improve\", \"wear\", \"trouble\", \"processing\", \"text\", \"compact\", \"thin\", \"new\", \"previous\", \"quick\", \"fire\", \"7\", \"light\", \"well\", \"check\", \"facebook\", \"version\", \"second\", \"old\", \"feature\", \"fast\", \"far\", \"reading\", \"love\", \"big\", \"enjoy\", \"happy\", \"purchase\", \"read\", \"like\", \"battery\", \"charge\", \"life\", \"fine\", \"speed\", \"tv\", \"keyboard\", \"entertain\", \"charger\", \"wrong\", \"power\", \"edition\", \"browser\", \"change\", \"dollar\", \"port\", \"powerful\", \"cool\", \"provide\", \"pad\", \"close\", \"prefer\", \"plug\", \"consider\", \"iphone\", \"minute\", \"cable\", \"link\", \"15\", \"call\", \"ad\", \"long\", \"unit\", \"see\", \"appropriate\", \"turn\", \"not\", \"screen\", \"offer\", \"hard\", \"bad\", \"device\", \"time\", \"take\", \"day\", \"work\", \"issue\", \"bit\", \"like\", \"m\", \"keep\", \"definitely\", \"display\", \"hand\", \"system\", \"profile\", \"people\", \"lightweight\", \"budget\", \"design\", \"real\", \"expandable\", \"geek\", \"operating\", \"pass\", \"main\", \"volume\", \"pair\", \"quad\", \"usage\", \"comfortable\", \"window\", \"class\", \"uper\", \"64\", \"fill\", \"word\", \"format\", \"bother\", \"breeze\", \"icon\", \"handle\", \"item\", \"worth\", \"late\", \"page\", \"bright\", \"touch\", \"entertainment\", \"button\", \"speaker\", \"alexa\", \"d\", \"end\", \"light\", \"hold\", \"nice\", \"recommend\", \"right\"], \"Freq\": [2562.0, 6758.0, 4400.0, 3147.0, 1994.0, 2405.0, 1493.0, 1731.0, 3289.0, 2127.0, 2422.0, 3358.0, 4795.0, 2024.0, 2341.0, 2193.0, 1382.0, 1575.0, 2647.0, 895.0, 747.0, 796.0, 773.0, 1443.0, 890.0, 583.0, 704.0, 514.0, 1571.0, 820.0, 1993.3218973971073, 703.3616061582991, 606.0633078869489, 389.05320939894244, 324.8887958558872, 270.1418599401051, 240.92282985987745, 236.63928760830098, 164.244006856391, 162.28547862438646, 128.81421093452997, 118.24628447771629, 112.81788859946288, 110.57530020726153, 107.49623546287745, 98.91483915610338, 76.91832229458075, 66.72862896097644, 65.43046418546449, 62.802383153375395, 58.629320254638536, 55.24718202180809, 54.24805299286118, 48.29306692843222, 45.730625915122864, 42.99323119745738, 42.81751009548627, 40.638661036832644, 40.38211709997788, 40.19212952589038, 204.5092755271214, 297.97895262416824, 1300.6038695010072, 559.795798296123, 235.44546300470884, 1386.1936877058824, 136.84922013944086, 1805.7874830169803, 690.5772411115564, 315.44992175840406, 1701.0035286181744, 984.4407147997927, 118.80066287626201, 668.011062658481, 251.07426340353004, 473.2586811619757, 921.0478952738615, 390.8780226439931, 643.9687867980869, 240.42602247227808, 323.1591269632351, 417.4671778597321, 271.6099530988827, 318.5905143065003, 234.78724955672405, 404.5749830312296, 386.94691151090785, 219.36956541484582, 168.76326015185887, 157.4687836074012, 145.53493233732817, 143.26741708252948, 142.34941202894575, 124.32072406477376, 118.59989235544008, 99.01423089388707, 88.76000508783441, 87.31935233209423, 84.67721702700005, 73.32811814922121, 69.22170931490726, 68.11917895947064, 67.55265846376332, 64.06558676150858, 63.10890029316076, 60.41287057633615, 59.82641970033021, 59.5459667469835, 58.98442320354779, 58.91619607212357, 58.64161163392706, 57.92695627310116, 56.17659827311168, 56.13795635796876, 55.290136488460355, 485.1412544102803, 177.98062090132396, 90.68099016581625, 158.52273507156073, 198.25787558772313, 106.78066898609912, 1231.4886735988287, 157.42825699604657, 297.1493529445163, 305.9658489667978, 180.8106333332703, 222.16954684907154, 464.6082678906047, 226.47288386629626, 568.2796056948196, 240.92028788884053, 269.23555749163376, 236.6832425216011, 239.79001187091012, 199.70340372528042, 206.19377834050354, 158.26041244434634, 305.95065854104365, 455.6457812683556, 406.2956316732711, 287.88757204960655, 274.5094114874305, 177.80260175136357, 249.53477156268215, 214.25508674780153, 285.6044488016295, 228.5937652415821, 213.9365166599936, 182.6595428881621, 329.38819963192446, 303.96427250161565, 288.0245795135272, 280.34959669604234, 252.39889124938534, 203.37421031667532, 186.3822966794648, 156.6612236278693, 346.28683584788183, 147.18083978965115, 140.81785349922797, 90.75051785629415, 77.28409592314362, 76.26185652538395, 75.54898470358202, 73.72696429156204, 63.9990135195923, 62.60588869435812, 54.473850863358834, 48.411460199238476, 46.63278833693915, 43.36098979185471, 40.231277253363146, 39.405300032352805, 36.74346468952894, 36.22422835403412, 32.835550241693824, 32.14483126361128, 31.153845675316497, 30.541573922139296, 750.4380850363453, 223.74466782680764, 1617.1142810323936, 2001.2712495870612, 119.99152652116385, 355.89519334963364, 379.28348433175046, 638.672852658282, 193.68819414097908, 2390.9147055668177, 201.4067267246367, 184.45818882855932, 386.744503362984, 470.93520717072676, 1244.5689592234248, 173.43945626951788, 111.82053971097758, 631.8927065946845, 355.75199249513054, 464.17329023003276, 286.82311063977414, 395.19006905604516, 320.1483183985045, 191.5963043987197, 512.2143309329741, 496.44137925864544, 231.46082069831417, 224.69227695278764, 201.70306236670936, 188.60695875751028, 137.59454051375667, 127.19148718626559, 108.71406861043916, 99.07122662117159, 94.29826631035797, 84.61546615182606, 84.15691944254198, 82.50342798218861, 76.33673298311616, 72.72537985097188, 59.48199142034738, 58.99764002249728, 57.834041451700216, 54.1632958313069, 54.0179554843936, 53.148071613230286, 52.79844675503682, 49.432936715435, 48.64789553243574, 46.84880828481762, 46.26950084611295, 45.924896172785964, 40.57150761356227, 38.84987352965521, 285.8129182277616, 456.1775573680214, 211.17485315572875, 1523.0432233734616, 1403.5228288904625, 200.1297374721678, 150.51768493967418, 312.2768931278414, 727.7895559750334, 281.96738363707937, 156.96312270594368, 100.46360591164716, 187.62690189884106, 835.5679517911369, 298.7837830817869, 190.69183162773004, 295.79890523120497, 315.9010599821059, 492.58721182669746, 287.89906308667025, 386.3776159617668, 236.65435051513845, 200.28788111506455, 233.7593251114502, 171.0983680910256, 169.57543271561113, 894.3211342118142, 399.7085351930819, 296.2127428545936, 283.2069460146601, 276.72010516766414, 251.3880328904712, 218.9864023044474, 184.3297542176435, 174.16579893254348, 154.3794103250547, 142.203294625104, 131.0291276217181, 108.81888276202058, 102.93743534117262, 89.88907746052831, 85.94948001397502, 79.26243282887194, 78.37606177810629, 67.56349417399589, 67.00671203486111, 64.64915432182988, 60.62106579344273, 57.694824797808636, 56.513456894378585, 54.77121022705213, 54.16358907430014, 48.90353284782992, 45.830580854954064, 42.27380850701908, 41.75817202972369, 595.012080629238, 461.79028194927986, 206.31670810919033, 165.14684528458932, 115.34935116760937, 1864.2515685155556, 360.09814079598664, 167.38653283674805, 1161.533262363994, 390.4272779509016, 563.6774264282092, 283.13601759178, 400.15603413541265, 917.9359532197093, 559.145024453498, 811.5634132925306, 369.7111548716607, 283.49666011519884, 299.47242020019917, 258.27090073267135, 241.28972327612559, 169.91758908728104, 296.59280290655596, 285.2430931349647, 254.07533388067972, 254.00775025797947, 215.38997183805, 152.01764060130424, 150.34331176861284, 142.2799906475447, 140.46160846935567, 121.50475281974157, 106.6617257361971, 104.6406400571786, 103.45211943246194, 85.4130804520473, 77.8054561645843, 77.7634177112997, 75.72897919849986, 66.93309954303952, 59.51744533272791, 56.080765067076044, 53.504141819992356, 51.50426720506495, 50.279728507246745, 48.35834146087437, 44.8960307647185, 42.24488458968814, 40.02714894711316, 39.921690454276145, 33.79750252777541, 33.20742237710988, 310.120725069544, 630.4832773286349, 175.24475049375087, 995.6457190018734, 587.6099853607036, 486.53451876605027, 1233.9416695798197, 236.10419114695597, 1427.1990754838675, 104.31364483644063, 1370.4236788565345, 299.3337005872581, 1569.2254049201113, 685.1753097886357, 258.2553061044019, 299.97323453753125, 347.8612995186923, 214.19358824629643, 171.23160579957056, 180.23061052457498, 256.8347237440999, 209.68132514090422, 176.41146322675797, 173.28482543544345, 1492.8525524049262, 772.8029437609313, 495.0973790974933, 198.06968826996837, 162.16340172417813, 157.01835622221216, 155.59638898658454, 132.08454503990214, 178.61809097058045, 121.42299250508773, 109.09328547363036, 105.56398124370384, 100.46705691426884, 88.3362553443826, 77.94071485142662, 72.60732960478582, 68.62327120844424, 67.02756239718687, 64.45459399966812, 61.24169015679835, 60.73878453119455, 59.93004856209568, 56.374940099749196, 53.30147602925204, 52.0517966096812, 50.51480497450888, 49.18661821133305, 46.161980559826375, 45.28521643071092, 44.329278651519544, 1554.8239692940326, 240.57019362536036, 314.2301316942737, 177.815165713108, 95.97214480799154, 172.47329154896082, 414.30386011075024, 151.09342062934044, 103.42848631100972, 723.5389085256729, 127.83138103594419, 519.8574660108352, 232.31787548949524, 307.4947597528026, 111.59942852411253, 371.9357680231282, 211.40426333957708, 163.00019611836814, 156.0926921207945, 135.5550412337703, 167.61404825637322, 171.88804948087684, 129.29163060699298, 132.93041677809228, 2561.3262191342774, 367.48747438903735, 313.5577823793239, 231.67750181100652, 223.0547604076106, 141.22852169247406, 120.27446883782684, 117.49534452895892, 114.6152489096681, 86.77863630292134, 85.66661590075847, 83.72276179507628, 70.5285645837695, 63.9748160699753, 63.15201379647812, 61.42967877603352, 55.570593571771106, 55.540205647754725, 53.120678208473294, 52.02574763498851, 48.79429502283941, 46.75102954590871, 46.10895626497961, 45.684177877563336, 43.93047031802939, 43.48887238842565, 42.7781695062936, 42.03309390502639, 40.08822043315102, 35.92195110332238, 768.6068666997697, 163.92952880562544, 120.32821723710359, 1512.9884031489687, 371.9165587186341, 293.46536424440416, 486.1491746272441, 143.8904420565398, 105.9304420055556, 190.02619915768176, 124.58611754848658, 598.2228964982379, 208.91442147466745, 195.06969873774645, 165.84111842679926, 109.88733583604647, 398.31097666875286, 134.18921122075966, 147.81433776776205, 139.90898304528753, 175.76494177130826, 176.04054132208248, 114.79895877610412, 746.439490993211, 583.024806227906, 513.3284864859355, 210.59375018293306, 187.01365728855677, 182.19072928885566, 135.91154588337128, 127.81806032361207, 118.25402074576176, 115.68595445117228, 113.86473950527099, 102.03092472442503, 101.30286846896055, 96.50208880999988, 89.02306472375886, 88.95678877284101, 88.87083010435677, 88.75324805750623, 86.6233370902167, 82.51606678373354, 79.311418853436, 74.73696226793811, 68.61881423636983, 68.40012755010888, 66.65222614812788, 66.1380803146044, 66.03744766591588, 64.25874006353482, 59.61374552134683, 51.175185431426016, 209.71707320717587, 492.8830319129897, 129.77692044436287, 101.6858290603505, 86.33275987683874, 129.16795378820393, 603.5345078961293, 385.65739139277076, 117.42053444337589, 113.00851311258293, 96.93033937677788, 187.74542606805755, 181.43631904397967, 128.16166956914455, 121.33537342808266, 164.00649068417277, 117.67917126969373, 102.56564794449518, 148.68612270858625, 118.22068552044891, 108.06274072171415, 306.9035884197657, 299.68633343497027, 224.05360428645847, 169.5298933903457, 154.81414488834855, 147.27498506445872, 145.32829513822833, 110.74741602320199, 105.04490010039426, 87.89287815347092, 82.11649833883352, 76.69952869530836, 73.49883601076328, 71.62246674429032, 64.51500784711114, 55.793150972584534, 54.049123629341, 52.29037937612105, 51.42524633773501, 47.287181316932674, 46.43016022168298, 46.380735074716746, 45.83187225429779, 45.266921543028005, 42.06122275673771, 40.12340193734376, 38.20566800931372, 35.47829820167232, 32.7063696778361, 32.34489384653238, 102.60230470612757, 277.75199204727073, 218.6510428065466, 58.79363266728818, 70.03065135807554, 80.64400607086904, 86.4758205598981, 80.28161135157978, 73.13708818861585, 86.63847108444259, 79.73443928505422, 100.69033404354283, 75.68107735875897, 103.69530358716786, 82.3769626516628, 92.07654574721964, 79.21985466204787, 71.01630206909309], \"Total\": [2562.0, 6758.0, 4400.0, 3147.0, 1994.0, 2405.0, 1493.0, 1731.0, 3289.0, 2127.0, 2422.0, 3358.0, 4795.0, 2024.0, 2341.0, 2193.0, 1382.0, 1575.0, 2647.0, 895.0, 747.0, 796.0, 773.0, 1443.0, 890.0, 583.0, 704.0, 514.0, 1571.0, 820.0, 1994.3134643923222, 704.3529488837402, 607.054685111536, 390.044579495359, 325.880106718744, 271.13349951718817, 241.91463988075387, 237.63062276392782, 165.23563797882207, 163.27748209659092, 129.80551286719515, 119.23800846484667, 113.80931740498986, 111.56696415768637, 108.48771032767344, 99.90628215045095, 77.90979828171294, 67.72133288129716, 66.42225943816827, 63.793917524411455, 59.620858857689775, 56.2387748060958, 55.23952435859319, 49.28438786796084, 46.72212206245448, 43.98507862943769, 43.80891920805702, 41.63135377654062, 41.373620263406025, 41.18344694733982, 214.59508643742186, 316.0017647586793, 1575.9959243053218, 709.1949834378393, 279.57495485634627, 2024.882759475537, 171.25967135020545, 4400.297986642649, 1571.5456577227806, 601.5904715861486, 6758.911709740152, 3289.303760518, 160.40427823185863, 2422.599733986674, 517.3603549472384, 1443.118914949156, 4795.922010208269, 1140.0631334781706, 3358.139543225802, 547.2744970498687, 1200.19962300388, 2193.6903285307612, 850.1171477018513, 1664.8628430313897, 690.2194119236623, 405.5528938530759, 387.9249714794239, 220.34751625681938, 169.7411976763401, 158.448878297783, 146.5132652016551, 144.24532113724496, 143.3273286575502, 125.29866611311444, 119.57791922002514, 99.99237147854771, 89.73790201773475, 88.29769314755065, 85.65518685967822, 74.30626882103033, 70.19966707589187, 69.09719348529266, 68.53076302467208, 65.0439054504255, 64.08744042705992, 61.39074845732724, 60.80444315671961, 60.52418855748224, 59.962386901101574, 59.894587255465446, 59.61959281315942, 58.905034690775246, 57.154829707077106, 57.116167291659444, 56.26819769866413, 625.9171227935499, 211.7562048479856, 98.87061440843297, 187.97704829133198, 254.28408627239546, 121.93824442795204, 3358.139543225802, 220.1817269499282, 514.2682654948946, 547.2744970498687, 268.9220923947453, 364.5543467947534, 1062.345800876144, 388.02874300820287, 1664.8628430313897, 485.13678257249626, 585.6821490956826, 517.3603549472384, 545.93793376488, 404.3531284302228, 449.32042914855174, 267.18168468600635, 1140.0631334781706, 3147.6350090425767, 2647.767828731621, 1200.19962300388, 1575.9959243053218, 352.84371830598644, 1627.3643489081394, 1115.030689017527, 6758.911709740152, 1726.2779789991714, 4400.297986642649, 1157.5091058990135, 330.377864786561, 304.9539450292801, 289.0143699493982, 281.33924234901315, 253.3886529573541, 204.36399653268242, 187.3734726378524, 157.6508970384584, 348.5863178873449, 148.17059932525112, 141.8075237031068, 91.74016821633705, 78.2737401274893, 77.2515006977089, 76.53878374748774, 74.71693670155229, 64.98870207389152, 63.59563429983435, 55.46366386834272, 49.40124696778473, 47.622423462528914, 44.350794521923824, 41.220931809818175, 40.39509904519647, 37.733117835891115, 37.21390753231437, 33.82528585908726, 33.13452877842367, 32.14359568269645, 31.53143641418143, 890.6538632182776, 254.9486106658706, 2127.0722739616544, 3147.6350090425767, 144.25959309951364, 507.04058808132226, 612.9088171485813, 1157.5091058990135, 277.34451291317737, 6758.911709740152, 301.5697520004189, 282.4208483379365, 772.7743960057709, 1115.030689017527, 4795.922010208269, 280.96041614708247, 144.86745966328544, 2647.767828731621, 1019.866692523095, 1627.3643489081394, 882.1058503270375, 2341.7743479670276, 3358.139543225802, 835.4982825754399, 513.1829785729809, 497.4100872675931, 232.42948573517768, 225.66095330137702, 202.6717743627894, 189.5757539495655, 138.5632674676117, 128.16018979524986, 109.68297857189862, 100.03986353822559, 95.26691673997587, 85.5842692227321, 85.12562224918506, 83.47217394919022, 77.30546365924711, 73.69406728915749, 60.4507010057347, 59.96632739895223, 58.80273428168284, 55.1322121071396, 54.98685762739115, 54.11704509459974, 53.767406235338136, 50.401633413050654, 49.616658362021326, 47.81751067651541, 47.23820556883516, 46.89363200548468, 41.540435416812464, 39.818720021746984, 304.5616510461273, 575.1424007882465, 253.55088145396368, 2341.7743479670276, 2193.6903285307612, 253.6692040384719, 192.55859242154548, 487.79559970366097, 1443.118914949156, 445.8274182546515, 217.89511915203892, 124.78004986674188, 301.5956718480282, 2647.767828731621, 608.6105610138518, 327.10675419860775, 656.7733626156997, 738.4088494720237, 1571.5456577227806, 835.4982825754399, 1726.2779789991714, 1115.030689017527, 761.5547765853826, 1627.3643489081394, 1019.866692523095, 4795.922010208269, 895.31535289234, 400.7028445117769, 297.2071042965542, 284.2011582236123, 277.7148369309877, 252.3823422286348, 219.98065933464386, 185.3242681938987, 175.1600318877183, 155.37369366411926, 143.19756725975836, 132.0233280201307, 109.81325239569586, 103.93201578419522, 90.88345585351567, 86.94381906251796, 80.25673534340778, 79.37041608967357, 68.55808621906546, 68.00091584844526, 65.64365224833698, 61.61536223597274, 58.689175831593744, 57.50784344203466, 55.7657087759442, 55.158027183174305, 49.897928615767455, 46.825058490761116, 43.26804397387421, 42.752452967214445, 698.3364187307158, 562.2524750583691, 242.4001769219743, 201.34633715532826, 137.97885662911975, 4400.297986642649, 656.7733626156997, 241.43291134784897, 3358.139543225802, 836.4463194621394, 1664.8628430313897, 674.5858144146067, 1200.19962300388, 4795.922010208269, 2405.0941297725203, 6758.911709740152, 2341.7743479670276, 1627.3643489081394, 2127.0722739616544, 1571.5456577227806, 1443.118914949156, 2647.767828731621, 297.5865842029886, 286.2367732102285, 255.06908818205824, 255.00146295078713, 216.38366245099314, 153.01136276720544, 151.33699913139895, 143.2737586726042, 141.45536904659366, 122.49847022034135, 107.65537705538488, 105.63428855103861, 104.44596101053953, 86.40695328689097, 78.79918370998327, 78.75730361445609, 76.72289443243788, 67.92680792682052, 60.51151447859761, 57.07452259837567, 54.4978564689253, 52.49797572190884, 51.27358189303386, 49.35211683482462, 45.8897632929048, 43.23854268043208, 41.020781334484234, 40.91543749061273, 34.79118477695379, 34.20161560241063, 347.910202191554, 764.3815474482581, 202.13671675355883, 1382.180620136798, 820.6816324411407, 682.4868335640814, 2422.599733986674, 334.50391614197576, 3289.303760518, 129.9150062761626, 4795.922010208269, 580.726996934478, 6758.911709740152, 3147.6350090425767, 674.5858144146067, 1062.345800876144, 1726.2779789991714, 666.3715119543549, 480.3611248101424, 601.5904715861486, 2405.0941297725203, 2127.0722739616544, 1157.5091058990135, 1627.3643489081394, 1493.8303976756797, 773.7808289234389, 496.0752471675952, 199.04758310780983, 163.14125304566082, 157.99628112827503, 156.57427449439228, 133.06431890431296, 179.96201797724416, 122.40089420418741, 110.0711660036322, 106.54199956001841, 101.44492694998097, 89.31410806876856, 78.91865925451398, 73.58525834231256, 69.60122537249174, 68.00555733200812, 65.43248201867341, 62.219637550081316, 61.71678286078546, 60.90855017922747, 57.35279527088295, 54.27952409086865, 53.029669610984726, 51.49290651741209, 50.16457794101821, 47.140509304051925, 46.26312829643083, 45.30716279762884, 1731.7312352146998, 278.3714877051246, 429.723581239147, 237.0523108851433, 112.58322272275352, 254.69706772166975, 836.4463194621394, 230.75198421700725, 143.98164045240696, 3289.303760518, 211.0442585092652, 2422.599733986674, 608.6105610138518, 1019.866692523095, 173.2255229166424, 2193.6903285307612, 850.1171477018513, 445.8274182546515, 431.53061182355594, 327.10675419860775, 835.4982825754399, 4795.922010208269, 1140.0631334781706, 1726.2779789991714, 2562.302631595861, 368.4632055590865, 314.5333116737064, 232.6530670921976, 224.03030551901355, 142.2042120342473, 121.25002719012562, 118.47094142335898, 115.59080831933589, 87.75413351487468, 86.64248467320887, 84.69841298242574, 71.50425364933344, 64.95042160386583, 64.12754675898086, 62.40522572372992, 56.54614447864235, 56.515797056540045, 54.0962948285604, 53.001406420890696, 49.76999208503938, 47.72692196313007, 47.08451398105532, 46.660106030382, 44.90608594346141, 44.46448675256124, 43.75376624050989, 43.00882802801896, 41.06372561930382, 36.89774146581865, 796.0898897689638, 175.76438476545647, 138.83113395479492, 2405.0941297725203, 512.9977591501496, 455.9758606414846, 882.1058503270375, 201.28768419187682, 138.11201252288762, 313.37855332638077, 194.18747222210163, 2024.882759475537, 666.3715119543549, 682.4868335640814, 545.93793376488, 225.4255621288194, 4400.297986642649, 480.3611248101424, 690.2194119236623, 625.9171227935499, 1664.8628430313897, 1731.7312352146998, 1726.2779789991714, 747.4067642782124, 583.9920488510112, 514.2957810782431, 211.56113096113558, 187.98113445555055, 183.15812847850714, 136.8790292768815, 128.78532667258776, 119.22126517486645, 116.6533098509547, 114.83208548883691, 102.99821096962675, 102.27040271599454, 97.46933560118666, 89.99049268849437, 89.92400634262806, 89.83848403092951, 89.7207559921826, 87.59062238352234, 83.48344941361918, 80.278778203052, 75.7043287616237, 69.58602457439271, 69.36750319284559, 67.6195392669863, 67.10533601899044, 67.0046796706615, 65.22611938027954, 60.581022195084614, 52.1424455276164, 228.5087178265124, 570.948535671016, 142.60398288712898, 110.8166727221168, 91.96085426530688, 176.3600039876605, 2647.767828731621, 1382.180620136798, 175.794334180676, 180.3134682072181, 130.1058569198694, 835.4982825754399, 1140.0631334781706, 416.4161509907474, 352.84371830598644, 1627.3643489081394, 335.228481096411, 177.05749093261744, 1726.2779789991714, 585.6821490956826, 267.18168468600635, 307.8476083528228, 300.6304112895993, 224.99760234861304, 170.47390662983088, 155.75820558765656, 148.2190333549498, 146.27230056412714, 111.69148500671983, 105.98887579277397, 88.83694447606548, 83.0604765112348, 77.64351993343277, 74.44282477931965, 72.56667469393248, 65.45908413656552, 56.73714670862916, 54.993153262714976, 53.23441499096225, 52.369250650917664, 48.23118479879889, 47.37418347885715, 47.32477902954814, 46.77585521656963, 46.21108735185109, 43.00531612380637, 41.067365869456644, 39.149796329664404, 36.42234021733528, 33.65054814215326, 33.28893220872094, 110.05072341047541, 363.0736277211911, 287.73704035986253, 67.09789653927076, 85.02641959814183, 120.32377082779884, 137.1778776017774, 129.3418128475896, 111.57064892988475, 155.17570087818524, 149.0742836876335, 281.4002422490224, 162.2851985888948, 455.9758606414846, 273.6372015064656, 820.6816324411407, 772.7743960057709, 345.0691078365011], \"Category\": [\"Default\", \"Default\", \"Default\", \"Default\", \"Default\", \"Default\", \"Default\", \"Default\", \"Default\", \"Default\", \"Default\", \"Default\", \"Default\", \"Default\", \"Default\", \"Default\", \"Default\", \"Default\", \"Default\", \"Default\", \"Default\", \"Default\", \"Default\", \"Default\", \"Default\", \"Default\", \"Default\", \"Default\", \"Default\", \"Default\", \"Topic1\", \"Topic1\", \"Topic1\", \"Topic1\", \"Topic1\", \"Topic1\", \"Topic1\", \"Topic1\", \"Topic1\", \"Topic1\", \"Topic1\", \"Topic1\", \"Topic1\", \"Topic1\", \"Topic1\", \"Topic1\", \"Topic1\", \"Topic1\", \"Topic1\", \"Topic1\", \"Topic1\", \"Topic1\", \"Topic1\", \"Topic1\", \"Topic1\", \"Topic1\", \"Topic1\", \"Topic1\", \"Topic1\", \"Topic1\", \"Topic1\", \"Topic1\", \"Topic1\", \"Topic1\", \"Topic1\", \"Topic1\", \"Topic1\", \"Topic1\", \"Topic1\", \"Topic1\", \"Topic1\", \"Topic1\", \"Topic1\", \"Topic1\", \"Topic1\", \"Topic1\", \"Topic1\", \"Topic1\", \"Topic1\", \"Topic1\", \"Topic1\", \"Topic1\", \"Topic1\", \"Topic1\", \"Topic1\", \"Topic2\", \"Topic2\", \"Topic2\", \"Topic2\", \"Topic2\", \"Topic2\", \"Topic2\", \"Topic2\", \"Topic2\", \"Topic2\", \"Topic2\", \"Topic2\", \"Topic2\", \"Topic2\", \"Topic2\", \"Topic2\", \"Topic2\", \"Topic2\", \"Topic2\", \"Topic2\", \"Topic2\", \"Topic2\", \"Topic2\", \"Topic2\", \"Topic2\", \"Topic2\", \"Topic2\", \"Topic2\", \"Topic2\", \"Topic2\", \"Topic2\", \"Topic2\", \"Topic2\", \"Topic2\", \"Topic2\", \"Topic2\", \"Topic2\", \"Topic2\", \"Topic2\", \"Topic2\", \"Topic2\", \"Topic2\", \"Topic2\", \"Topic2\", \"Topic2\", \"Topic2\", \"Topic2\", \"Topic2\", \"Topic2\", \"Topic2\", \"Topic2\", \"Topic2\", \"Topic2\", \"Topic2\", \"Topic2\", \"Topic2\", \"Topic2\", \"Topic2\", \"Topic2\", \"Topic2\", \"Topic2\", \"Topic2\", \"Topic2\", \"Topic2\", \"Topic3\", \"Topic3\", \"Topic3\", \"Topic3\", \"Topic3\", \"Topic3\", \"Topic3\", \"Topic3\", \"Topic3\", \"Topic3\", \"Topic3\", \"Topic3\", \"Topic3\", \"Topic3\", \"Topic3\", \"Topic3\", \"Topic3\", \"Topic3\", \"Topic3\", \"Topic3\", \"Topic3\", \"Topic3\", \"Topic3\", \"Topic3\", \"Topic3\", \"Topic3\", \"Topic3\", \"Topic3\", \"Topic3\", \"Topic3\", \"Topic3\", \"Topic3\", \"Topic3\", \"Topic3\", \"Topic3\", \"Topic3\", \"Topic3\", \"Topic3\", \"Topic3\", \"Topic3\", \"Topic3\", \"Topic3\", \"Topic3\", \"Topic3\", \"Topic3\", \"Topic3\", \"Topic3\", \"Topic3\", \"Topic3\", \"Topic3\", \"Topic3\", \"Topic3\", \"Topic3\", \"Topic3\", \"Topic4\", \"Topic4\", \"Topic4\", \"Topic4\", \"Topic4\", \"Topic4\", \"Topic4\", \"Topic4\", \"Topic4\", \"Topic4\", \"Topic4\", \"Topic4\", \"Topic4\", \"Topic4\", \"Topic4\", \"Topic4\", \"Topic4\", \"Topic4\", \"Topic4\", \"Topic4\", \"Topic4\", \"Topic4\", \"Topic4\", \"Topic4\", \"Topic4\", \"Topic4\", \"Topic4\", \"Topic4\", \"Topic4\", \"Topic4\", \"Topic4\", \"Topic4\", \"Topic4\", \"Topic4\", \"Topic4\", \"Topic4\", \"Topic4\", \"Topic4\", \"Topic4\", \"Topic4\", \"Topic4\", \"Topic4\", \"Topic4\", \"Topic4\", \"Topic4\", \"Topic4\", \"Topic4\", \"Topic4\", \"Topic4\", \"Topic4\", \"Topic4\", \"Topic4\", \"Topic4\", \"Topic4\", \"Topic4\", \"Topic4\", \"Topic5\", \"Topic5\", \"Topic5\", \"Topic5\", \"Topic5\", \"Topic5\", \"Topic5\", \"Topic5\", \"Topic5\", \"Topic5\", \"Topic5\", \"Topic5\", \"Topic5\", \"Topic5\", \"Topic5\", \"Topic5\", \"Topic5\", \"Topic5\", \"Topic5\", \"Topic5\", \"Topic5\", \"Topic5\", \"Topic5\", \"Topic5\", \"Topic5\", \"Topic5\", \"Topic5\", \"Topic5\", \"Topic5\", \"Topic5\", \"Topic5\", \"Topic5\", \"Topic5\", \"Topic5\", \"Topic5\", \"Topic5\", \"Topic5\", \"Topic5\", \"Topic5\", \"Topic5\", \"Topic5\", \"Topic5\", \"Topic5\", \"Topic5\", \"Topic5\", \"Topic5\", \"Topic5\", \"Topic5\", \"Topic5\", \"Topic5\", \"Topic5\", \"Topic5\", \"Topic6\", \"Topic6\", \"Topic6\", \"Topic6\", \"Topic6\", \"Topic6\", \"Topic6\", \"Topic6\", \"Topic6\", \"Topic6\", \"Topic6\", \"Topic6\", \"Topic6\", \"Topic6\", \"Topic6\", \"Topic6\", \"Topic6\", \"Topic6\", \"Topic6\", \"Topic6\", \"Topic6\", \"Topic6\", \"Topic6\", \"Topic6\", \"Topic6\", \"Topic6\", \"Topic6\", \"Topic6\", \"Topic6\", \"Topic6\", \"Topic6\", \"Topic6\", \"Topic6\", \"Topic6\", \"Topic6\", \"Topic6\", \"Topic6\", \"Topic6\", \"Topic6\", \"Topic6\", \"Topic6\", \"Topic6\", \"Topic6\", \"Topic6\", \"Topic6\", \"Topic6\", \"Topic6\", \"Topic6\", \"Topic6\", \"Topic6\", \"Topic6\", \"Topic6\", \"Topic6\", \"Topic6\", \"Topic7\", \"Topic7\", \"Topic7\", \"Topic7\", \"Topic7\", \"Topic7\", \"Topic7\", \"Topic7\", \"Topic7\", \"Topic7\", \"Topic7\", \"Topic7\", \"Topic7\", \"Topic7\", \"Topic7\", \"Topic7\", \"Topic7\", \"Topic7\", \"Topic7\", \"Topic7\", \"Topic7\", \"Topic7\", \"Topic7\", \"Topic7\", \"Topic7\", \"Topic7\", \"Topic7\", \"Topic7\", \"Topic7\", \"Topic7\", \"Topic7\", \"Topic7\", \"Topic7\", \"Topic7\", \"Topic7\", \"Topic7\", \"Topic7\", \"Topic7\", \"Topic7\", \"Topic7\", \"Topic7\", \"Topic7\", \"Topic7\", \"Topic7\", \"Topic7\", \"Topic7\", \"Topic7\", \"Topic7\", \"Topic7\", \"Topic7\", \"Topic7\", \"Topic7\", \"Topic7\", \"Topic7\", \"Topic8\", \"Topic8\", \"Topic8\", \"Topic8\", \"Topic8\", \"Topic8\", \"Topic8\", \"Topic8\", \"Topic8\", \"Topic8\", \"Topic8\", \"Topic8\", \"Topic8\", \"Topic8\", \"Topic8\", \"Topic8\", \"Topic8\", \"Topic8\", \"Topic8\", \"Topic8\", \"Topic8\", \"Topic8\", \"Topic8\", \"Topic8\", \"Topic8\", \"Topic8\", \"Topic8\", \"Topic8\", \"Topic8\", \"Topic8\", \"Topic8\", \"Topic8\", \"Topic8\", \"Topic8\", \"Topic8\", \"Topic8\", \"Topic8\", \"Topic8\", \"Topic8\", \"Topic8\", \"Topic8\", \"Topic8\", \"Topic8\", \"Topic8\", \"Topic8\", \"Topic8\", \"Topic8\", \"Topic8\", \"Topic8\", \"Topic8\", \"Topic8\", \"Topic8\", \"Topic8\", \"Topic9\", \"Topic9\", \"Topic9\", \"Topic9\", \"Topic9\", \"Topic9\", \"Topic9\", \"Topic9\", \"Topic9\", \"Topic9\", \"Topic9\", \"Topic9\", \"Topic9\", \"Topic9\", \"Topic9\", \"Topic9\", \"Topic9\", \"Topic9\", \"Topic9\", \"Topic9\", \"Topic9\", \"Topic9\", \"Topic9\", \"Topic9\", \"Topic9\", \"Topic9\", \"Topic9\", \"Topic9\", \"Topic9\", \"Topic9\", \"Topic9\", \"Topic9\", \"Topic9\", \"Topic9\", \"Topic9\", \"Topic9\", \"Topic9\", \"Topic9\", \"Topic9\", \"Topic9\", \"Topic9\", \"Topic9\", \"Topic9\", \"Topic9\", \"Topic9\", \"Topic9\", \"Topic9\", \"Topic9\", \"Topic9\", \"Topic9\", \"Topic9\", \"Topic10\", \"Topic10\", \"Topic10\", \"Topic10\", \"Topic10\", \"Topic10\", \"Topic10\", \"Topic10\", \"Topic10\", \"Topic10\", \"Topic10\", \"Topic10\", \"Topic10\", \"Topic10\", \"Topic10\", \"Topic10\", \"Topic10\", \"Topic10\", \"Topic10\", \"Topic10\", \"Topic10\", \"Topic10\", \"Topic10\", \"Topic10\", \"Topic10\", \"Topic10\", \"Topic10\", \"Topic10\", \"Topic10\", \"Topic10\", \"Topic10\", \"Topic10\", \"Topic10\", \"Topic10\", \"Topic10\", \"Topic10\", \"Topic10\", \"Topic10\", \"Topic10\", \"Topic10\", \"Topic10\", \"Topic10\", \"Topic10\", \"Topic10\", \"Topic10\", \"Topic10\", \"Topic10\", \"Topic10\"], \"logprob\": [30.0, 29.0, 28.0, 27.0, 26.0, 25.0, 24.0, 23.0, 22.0, 21.0, 20.0, 19.0, 18.0, 17.0, 16.0, 15.0, 14.0, 13.0, 12.0, 11.0, 10.0, 9.0, 8.0, 7.0, 6.0, 5.0, 4.0, 3.0, 2.0, 1.0, -2.6357, -3.6774, -3.8263, -4.2696, -4.4498, -4.6343, -4.7488, -4.7668, -5.1319, -5.1439, -5.3749, -5.4605, -5.5075, -5.5276, -5.5558, -5.639, -5.8905, -6.0327, -6.0523, -6.0933, -6.1621, -6.2215, -6.2397, -6.356, -6.4105, -6.4722, -6.4763, -6.5286, -6.5349, -6.5396, -4.9127, -4.5363, -3.0627, -3.9057, -4.7718, -2.999, -5.3144, -2.7345, -3.6958, -4.4793, -2.7943, -3.3412, -5.4558, -3.729, -4.7075, -4.0736, -3.4078, -4.2649, -3.7656, -4.7509, -4.4551, -4.1991, -4.6289, -4.4694, -4.7746, -4.0927, -4.1373, -4.7048, -4.9671, -5.0364, -5.1152, -5.1309, -5.1373, -5.2727, -5.3198, -5.5003, -5.6096, -5.626, -5.6567, -5.8006, -5.8583, -5.8743, -5.8827, -5.9357, -5.9507, -5.9944, -6.0041, -6.0088, -6.0183, -6.0195, -6.0241, -6.0364, -6.0671, -6.0678, -6.083, -3.9111, -4.9139, -5.5882, -5.0297, -4.806, -5.4248, -2.9796, -5.0366, -4.4013, -4.3721, -4.8981, -4.6921, -3.9544, -4.673, -3.753, -4.6111, -4.5, -4.6289, -4.6158, -4.7987, -4.7668, -5.0313, -4.3722, -3.9739, -4.0885, -4.433, -4.4806, -4.9149, -4.576, -4.7284, -4.441, -4.6636, -4.7299, -4.888, -4.2614, -4.3418, -4.3956, -4.4226, -4.5277, -4.7436, -4.8309, -5.0046, -4.2114, -5.067, -5.1112, -5.5505, -5.7112, -5.7245, -5.7339, -5.7583, -5.8998, -5.9218, -6.0609, -6.1789, -6.2164, -6.2891, -6.364, -6.3848, -6.4547, -6.4689, -6.5672, -6.5884, -6.6197, -6.6396, -3.438, -4.6482, -2.6703, -2.4571, -5.2712, -4.184, -4.1204, -3.5993, -4.7924, -2.2792, -4.7533, -4.8412, -4.1009, -3.9039, -2.9321, -4.9028, -5.3418, -3.6099, -4.1844, -3.9184, -4.3998, -4.0793, -4.2899, -4.8033, -3.7776, -3.8089, -4.572, -4.6016, -4.7096, -4.7767, -5.0921, -5.1707, -5.3276, -5.4205, -5.4699, -5.5783, -5.5837, -5.6035, -5.6812, -5.7297, -5.9307, -5.9389, -5.9588, -6.0244, -6.0271, -6.0433, -6.0499, -6.1158, -6.1318, -6.1694, -6.1819, -6.1894, -6.3133, -6.3567, -4.361, -3.8935, -4.6637, -2.6879, -2.7696, -4.7174, -5.0023, -4.2725, -3.4264, -4.3746, -4.9604, -5.4066, -4.7819, -3.2883, -4.3166, -4.7657, -4.3267, -4.2609, -3.8167, -4.3538, -4.0596, -4.5498, -4.7166, -4.5621, -4.8741, -4.8831, -3.1753, -3.9806, -4.2803, -4.3252, -4.3484, -4.4444, -4.5824, -4.7547, -4.8114, -4.932, -5.0141, -5.096, -5.2817, -5.3373, -5.4728, -5.5176, -5.5986, -5.6099, -5.7583, -5.7666, -5.8024, -5.8667, -5.9162, -5.9369, -5.9682, -5.9794, -6.0815, -6.1464, -6.2272, -6.2395, -3.5828, -3.8363, -4.642, -4.8645, -5.2234, -2.4408, -4.085, -4.8511, -2.9139, -4.0041, -3.6369, -4.3255, -3.9795, -3.1492, -3.645, -3.2724, -4.0587, -4.3242, -4.2694, -4.4174, -4.4854, -4.8361, -4.2282, -4.2672, -4.3829, -4.3832, -4.5481, -4.8965, -4.9076, -4.9627, -4.9756, -5.1206, -5.2509, -5.27, -5.2814, -5.473, -5.5663, -5.5669, -5.5934, -5.7169, -5.8343, -5.8938, -5.9408, -5.9789, -6.0029, -6.0419, -6.1162, -6.1771, -6.231, -6.2336, -6.4002, -6.4178, -4.1836, -3.4741, -4.7544, -3.0172, -3.5445, -3.7332, -2.8026, -4.4563, -2.6571, -5.2731, -2.6977, -4.219, -2.5622, -3.3909, -4.3666, -4.2169, -4.0687, -4.5537, -4.7775, -4.7263, -4.3721, -4.575, -4.7477, -4.7656, -2.5216, -3.18, -3.6252, -4.5414, -4.7414, -4.7736, -4.7827, -4.9466, -4.6447, -5.0307, -5.1378, -5.1707, -5.2202, -5.3488, -5.474, -5.5449, -5.6014, -5.6249, -5.664, -5.7152, -5.7234, -5.7368, -5.798, -5.854, -5.8778, -5.9077, -5.9344, -5.9978, -6.017, -6.0384, -2.4809, -4.347, -4.0799, -4.6493, -5.2659, -4.6798, -3.8034, -4.8121, -5.1911, -3.2458, -4.9793, -3.5764, -4.3819, -4.1015, -5.1151, -3.9113, -4.4762, -4.7362, -4.7795, -4.9206, -4.7083, -4.6832, -4.9679, -4.9402, -1.8679, -3.8095, -3.9682, -4.2708, -4.3088, -4.7658, -4.9264, -4.9498, -4.9746, -5.2528, -5.2657, -5.2887, -5.4602, -5.5577, -5.5706, -5.5983, -5.6985, -5.6991, -5.7436, -5.7644, -5.8286, -5.8714, -5.8852, -5.8944, -5.9336, -5.9437, -5.9602, -5.9777, -6.0251, -6.1348, -3.0716, -4.6167, -4.926, -2.3943, -3.7975, -4.0344, -3.5297, -4.7471, -5.0534, -4.469, -4.8912, -3.3222, -4.3743, -4.4428, -4.6052, -5.0167, -3.729, -4.8169, -4.7202, -4.7752, -4.547, -4.5455, -4.973, -3.009, -3.2561, -3.3834, -4.2744, -4.3931, -4.4193, -4.7123, -4.7737, -4.8515, -4.8734, -4.8893, -4.999, -5.0062, -5.0548, -5.1354, -5.1362, -5.1371, -5.1385, -5.1627, -5.2113, -5.2509, -5.3103, -5.3958, -5.3989, -5.4248, -5.4326, -5.4341, -5.4614, -5.5364, -5.6891, -4.2786, -3.424, -4.7585, -5.0024, -5.1661, -4.7632, -3.2215, -3.6694, -4.8586, -4.8969, -5.0503, -4.3892, -4.4234, -4.771, -4.8258, -4.5244, -4.8564, -4.9938, -4.6225, -4.8518, -4.9416, -3.2472, -3.271, -3.5619, -3.8407, -3.9315, -3.9815, -3.9948, -4.2665, -4.3194, -4.4976, -4.5656, -4.6339, -4.6765, -4.7023, -4.8069, -4.9521, -4.9839, -5.0169, -5.0336, -5.1175, -5.1358, -5.1369, -5.1488, -5.1612, -5.2346, -5.2818, -5.3308, -5.4048, -5.4862, -5.4973, -4.3429, -3.347, -3.5863, -4.8997, -4.7248, -4.5837, -4.5139, -4.5882, -4.6814, -4.512, -4.5951, -4.3617, -4.6472, -4.3323, -4.5624, -4.4511, -4.6015, -4.7108], \"loglift\": [30.0, 29.0, 28.0, 27.0, 26.0, 25.0, 24.0, 23.0, 22.0, 21.0, 20.0, 19.0, 18.0, 17.0, 16.0, 15.0, 14.0, 13.0, 12.0, 11.0, 10.0, 9.0, 8.0, 7.0, 6.0, 5.0, 4.0, 3.0, 2.0, 1.0, 1.9609, 1.96, 1.9598, 1.9588, 1.9583, 1.9577, 1.9573, 1.9572, 1.9554, 1.9553, 1.9537, 1.953, 1.9526, 1.9525, 1.9522, 1.9514, 1.9486, 1.9466, 1.9463, 1.9457, 1.9446, 1.9436, 1.9433, 1.9411, 1.9399, 1.9386, 1.9385, 1.9373, 1.9371, 1.937, 1.9132, 1.9027, 1.7693, 1.7248, 1.7896, 1.5824, 1.7371, 1.0707, 1.1391, 1.3158, 0.5817, 0.755, 1.6611, 0.6731, 1.2384, 0.8465, 0.3114, 0.8909, 0.3099, 1.1388, 0.6493, 0.3023, 0.8204, 0.3078, 0.8831, 2.0967, 2.0966, 2.0946, 2.0933, 2.0929, 2.0924, 2.0923, 2.0923, 2.0913, 2.0909, 2.0893, 2.0881, 2.088, 2.0876, 2.0858, 2.0851, 2.0848, 2.0847, 2.0839, 2.0837, 2.083, 2.0829, 2.0828, 2.0827, 2.0826, 2.0826, 2.0824, 2.0818, 2.0818, 2.0816, 1.8443, 1.9253, 2.0126, 1.9287, 1.8502, 1.9664, 1.0959, 1.7636, 1.5506, 1.5176, 1.7021, 1.6039, 1.2721, 1.5606, 1.0242, 1.3991, 1.3219, 1.3171, 1.2764, 1.3936, 1.3202, 1.5754, 0.7837, 0.1664, 0.2247, 0.6714, 0.3514, 1.4137, 0.224, 0.4496, -1.0649, 0.0773, -0.9247, 0.2527, 2.133, 2.1328, 2.1326, 2.1325, 2.1321, 2.1312, 2.1307, 2.1297, 2.1294, 2.1293, 2.129, 2.1252, 2.1233, 2.1231, 2.123, 2.1227, 2.1207, 2.1203, 2.118, 2.1158, 2.115, 2.1134, 2.1117, 2.1112, 2.1094, 2.1091, 2.1063, 2.1057, 2.1047, 2.1041, 1.9647, 2.0055, 1.8619, 1.6831, 1.9518, 1.7821, 1.6561, 1.5414, 1.777, 1.0968, 1.7323, 1.71, 1.4438, 1.2741, 0.787, 1.6536, 1.8771, 0.7033, 1.0828, 0.8816, 1.0126, 0.3567, -0.2143, 0.6634, 2.1764, 2.1764, 2.1741, 2.174, 2.1735, 2.1732, 2.1713, 2.1707, 2.1694, 2.1686, 2.1681, 2.1669, 2.1669, 2.1666, 2.1657, 2.1651, 2.1622, 2.162, 2.1617, 2.1606, 2.1605, 2.1602, 2.1601, 2.1589, 2.1586, 2.1578, 2.1576, 2.1574, 2.1547, 2.1537, 2.1148, 1.9466, 1.9954, 1.7481, 1.7317, 1.9412, 1.932, 1.7323, 1.4938, 1.7202, 1.8503, 1.9616, 1.7037, 1.0249, 1.4669, 1.6387, 1.3807, 1.3292, 1.0182, 1.1129, 0.6814, 0.6283, 0.8427, 0.2379, 0.3931, -1.1639, 2.2222, 2.2208, 2.2199, 2.2198, 2.2197, 2.2194, 2.2188, 2.2179, 2.2176, 2.2169, 2.2163, 2.2157, 2.2142, 2.2137, 2.2123, 2.2118, 2.2108, 2.2107, 2.2087, 2.2086, 2.208, 2.207, 2.2062, 2.2059, 2.2053, 2.2051, 2.2032, 2.2018, 2.2001, 2.1998, 2.0632, 2.0265, 2.0621, 2.0251, 2.0442, 1.3645, 1.6223, 1.857, 1.1617, 1.4614, 1.1403, 1.3551, 1.1249, 0.5699, 0.7644, 0.1036, 0.3774, 0.4758, 0.2628, 0.4175, 0.4347, -0.5229, 2.2708, 2.2707, 2.2702, 2.2702, 2.2695, 2.2676, 2.2675, 2.2672, 2.2671, 2.266, 2.2649, 2.2647, 2.2646, 2.2626, 2.2614, 2.2614, 2.2611, 2.2594, 2.2576, 2.2566, 2.2557, 2.255, 2.2546, 2.2538, 2.2522, 2.2509, 2.2496, 2.2495, 2.2452, 2.2446, 2.1591, 2.0816, 2.1314, 1.9461, 1.9401, 1.9357, 1.5995, 1.9258, 1.4392, 2.0547, 1.0215, 1.6114, 0.8139, 0.7494, 1.314, 1.0096, 0.6722, 1.1392, 1.2426, 1.0688, 0.0372, -0.0428, 0.3929, 0.0344, 2.364, 2.3634, 2.3627, 2.3598, 2.3587, 2.3585, 2.3584, 2.3573, 2.3572, 2.3567, 2.3558, 2.3555, 2.355, 2.3537, 2.3522, 2.3513, 2.3505, 2.3502, 2.3496, 2.3488, 2.3487, 2.3485, 2.3475, 2.3465, 2.3461, 2.3455, 2.345, 2.3437, 2.3433, 2.3429, 2.2569, 2.2187, 2.0517, 2.0771, 2.205, 1.9748, 1.6621, 1.9412, 2.0339, 0.8504, 1.8633, 0.8256, 1.4016, 1.1657, 1.925, 0.5901, 0.9731, 1.3585, 1.3478, 1.4838, 0.7583, -0.964, 0.1879, -0.1992, 2.4781, 2.4758, 2.4754, 2.4743, 2.4741, 2.4716, 2.4704, 2.4702, 2.47, 2.4673, 2.4672, 2.4669, 2.4648, 2.4634, 2.4632, 2.4627, 2.4611, 2.4611, 2.4603, 2.4599, 2.4587, 2.4578, 2.4576, 2.4574, 2.4565, 2.4563, 2.4559, 2.4555, 2.4544, 2.4517, 2.4434, 2.4088, 2.3355, 2.015, 2.1569, 2.0378, 1.8827, 2.1428, 2.2132, 1.9782, 2.0347, 1.2592, 1.3186, 1.2261, 1.287, 1.76, 0.0763, 1.2032, 0.9374, 0.9803, 0.2301, 0.1923, -0.232, 2.5691, 2.5687, 2.5685, 2.5658, 2.5652, 2.5651, 2.5633, 2.5628, 2.5622, 2.562, 2.5619, 2.5609, 2.5609, 2.5604, 2.5596, 2.5595, 2.5595, 2.5595, 2.5593, 2.5587, 2.5582, 2.5575, 2.5564, 2.5563, 2.556, 2.5558, 2.5558, 2.5554, 2.5543, 2.5516, 2.4845, 2.4233, 2.4761, 2.4844, 2.5072, 2.2589, 1.0917, 1.2939, 2.1668, 2.1031, 2.276, 1.0774, 0.7324, 1.392, 1.5029, 0.2755, 1.5235, 2.0244, 0.1185, 0.9701, 1.6651, 3.2179, 3.2178, 3.2167, 3.2154, 3.2148, 3.2145, 3.2144, 3.2124, 3.212, 3.2102, 3.2095, 3.2087, 3.2082, 3.2078, 3.2064, 3.2041, 3.2036, 3.203, 3.2027, 3.2012, 3.2008, 3.2008, 3.2005, 3.2003, 3.1987, 3.1977, 3.1965, 3.1947, 3.1925, 3.1922, 3.1508, 2.953, 2.9464, 3.0888, 3.0269, 2.8208, 2.7595, 2.744, 2.7986, 2.6381, 2.5952, 2.1932, 2.4581, 1.7399, 2.0204, 1.0334, 0.9432, 1.6401]}, \"token.table\": {\"Topic\": [2, 4, 5, 6, 7, 1, 2, 9, 6, 1, 2, 2, 5, 8, 6, 1, 2, 1, 9, 1, 8, 10, 1, 5, 8, 2, 5, 6, 1, 1, 2, 4, 5, 7, 1, 5, 4, 7, 4, 6, 6, 9, 1, 4, 9, 1, 1, 4, 8, 1, 2, 4, 10, 6, 2, 3, 4, 5, 9, 5, 5, 7, 1, 4, 7, 3, 4, 7, 6, 9, 7, 4, 7, 3, 9, 4, 3, 9, 1, 5, 1, 4, 1, 2, 4, 6, 8, 10, 1, 5, 1, 8, 9, 5, 2, 7, 10, 5, 3, 1, 2, 10, 9, 10, 5, 6, 9, 6, 10, 1, 2, 9, 10, 1, 2, 3, 5, 9, 9, 6, 7, 7, 1, 2, 9, 9, 9, 9, 3, 7, 8, 1, 1, 6, 1, 5, 2, 10, 6, 9, 4, 1, 2, 3, 4, 9, 10, 8, 3, 7, 7, 9, 4, 1, 8, 9, 1, 2, 10, 6, 2, 1, 4, 10, 2, 1, 1, 2, 9, 3, 2, 4, 10, 10, 3, 4, 7, 9, 5, 8, 3, 4, 10, 9, 7, 4, 1, 2, 1, 2, 4, 1, 6, 7, 7, 9, 7, 7, 8, 2, 3, 9, 10, 1, 2, 5, 7, 8, 9, 4, 10, 8, 6, 3, 8, 8, 10, 3, 8, 3, 2, 5, 8, 6, 8, 1, 5, 2, 4, 5, 8, 6, 8, 2, 5, 7, 1, 3, 6, 8, 10, 10, 5, 9, 2, 5, 6, 8, 2, 4, 10, 1, 2, 4, 7, 1, 5, 5, 3, 4, 1, 5, 6, 5, 1, 4, 5, 6, 6, 10, 3, 2, 1, 2, 3, 4, 5, 6, 5, 5, 1, 2, 3, 4, 5, 8, 9, 1, 2, 3, 5, 6, 4, 2, 5, 5, 2, 2, 6, 1, 3, 4, 5, 6, 7, 10, 3, 10, 3, 8, 2, 8, 2, 9, 2, 5, 3, 5, 2, 5, 9, 3, 3, 10, 3, 2, 4, 6, 8, 9, 10, 7, 10, 4, 1, 10, 4, 6, 6, 8, 5, 6, 6, 6, 4, 7, 7, 2, 3, 9, 2, 4, 5, 9, 5, 10, 2, 9, 4, 9, 1, 4, 8, 4, 7, 8, 9, 10, 5, 2, 7, 1, 7, 9, 2, 8, 10, 10, 1, 2, 3, 4, 5, 6, 7, 8, 9, 4, 7, 6, 9, 1, 2, 3, 4, 6, 9, 4, 4, 7, 4, 4, 7, 9, 2, 3, 4, 7, 8, 10, 4, 1, 2, 3, 4, 6, 7, 9, 1, 2, 5, 7, 8, 3, 8, 2, 4, 7, 8, 9, 7, 10, 8, 4, 5, 1, 1, 3, 9, 4, 8, 5, 3, 6, 1, 1, 4, 5, 4, 7, 6, 7, 2, 3, 4, 5, 7, 8, 10, 2, 1, 3, 6, 2, 8, 7, 3, 6, 10, 5, 8, 2, 3, 4, 5, 9, 2, 4, 5, 7, 8, 9, 1, 7, 9, 7, 1, 2, 8, 6, 5, 10, 4, 9, 3, 6, 5, 9, 9, 10, 10, 6, 1, 10, 2, 3, 4, 9, 10, 1, 2, 3, 5, 7, 1, 8, 5, 7, 6, 7, 5, 2, 1, 4, 5, 2, 2, 5, 1, 9, 6, 9, 9, 9, 9, 5, 1, 3, 10, 6, 8, 5, 3, 5, 6, 7, 4, 2, 4, 7, 9, 8, 6, 1, 2, 3, 5, 6, 10, 7, 1, 2, 9, 1, 2, 3, 5, 7, 8, 2, 10, 3, 6, 7, 8, 6, 3, 7, 8, 2, 7, 9, 6, 8, 10, 3, 8, 1, 3, 5, 6, 8, 10, 7, 2, 4, 2, 6, 8, 3, 3, 2, 3, 5, 7, 9, 10, 5, 2, 2, 7, 1, 6, 9, 1, 7, 2, 8, 8, 9, 3, 3, 1, 4, 6, 7, 7, 8, 8, 2, 7, 9, 6, 2, 5, 6, 7, 10, 1, 2, 4, 6, 9, 6, 2, 1, 5, 4, 10, 9, 8, 2, 6, 2, 4, 4, 7, 4, 3, 6, 3, 5, 6, 3, 10, 4, 7, 1, 2, 3, 5, 6, 2, 3, 4, 6, 7, 9, 3, 4, 1, 8, 2, 8, 1, 2, 3, 4, 5, 7, 9, 2, 3, 4, 9, 3, 1, 2, 4, 7, 8, 9, 4, 1, 9, 10, 4, 2, 5, 7, 7, 8, 2, 9, 10, 9, 7, 5, 9, 4, 10, 8, 10, 1, 4, 5, 6, 7, 4, 3, 3, 8, 3, 4, 8, 4, 5, 7, 7, 10, 1, 3, 4, 5, 7, 8, 2, 5, 6, 7, 8, 6, 2, 2, 3, 5, 6, 8, 5, 4, 7, 7, 10, 10, 1, 2, 3, 4, 5, 6, 7, 9, 5, 1, 10, 9, 1, 2, 4, 8], \"Freq\": [0.43771058314204514, 0.08189423813625361, 0.10354443902284939, 0.2823939246077711, 0.09413130820259036, 0.9775609154317354, 0.9830319260714184, 0.9904091714858559, 0.9939954293275507, 0.4385367878345165, 0.5591344044890085, 0.6089627018629064, 0.24687677102550257, 0.14263991214806815, 0.9713555868525469, 0.9430327081482387, 0.05379716791449684, 0.840561702391224, 0.15380490724605375, 0.799954822521243, 0.19852893405636687, 0.973792277540888, 0.118908901475622, 0.15399677404219897, 0.7251493663759243, 0.19567562373742944, 0.4195166781643374, 0.3824569009413394, 0.9928888299882346, 0.16916528746713388, 0.12977063148163695, 0.21319460886268926, 0.12745329877660772, 0.36150390198456006, 0.17382983219108333, 0.8194834946151072, 0.6325317565796836, 0.3656123273847107, 0.9938498089833302, 0.9726026577674473, 0.07877161174072098, 0.919002136975078, 0.34151683732351745, 0.623351120551663, 0.03315697449742888, 0.9815352849903622, 0.7418754743435818, 0.25560415502593997, 0.9847691421690334, 0.99734620581896, 0.9853032044066867, 0.46285649203306495, 0.5366452081542782, 0.9751155072800598, 0.9922551128683479, 0.1686755174950621, 0.6503615522657711, 0.15799985183081766, 0.022632411208198207, 0.991032447728807, 0.9974260038142458, 0.985213600601802, 0.19009064067820755, 0.6400174089021664, 0.16957726218775349, 0.8318337617743119, 0.15943480434007645, 0.9781074785109848, 0.05437096077397248, 0.9351805253123266, 0.9805831411257475, 0.9390545363069495, 0.05910133445288493, 0.2459535700972202, 0.7455467593571987, 0.9737880481714984, 0.9933256515050376, 0.9981178063332474, 0.14438933355756617, 0.8498343632245323, 0.9909286770466931, 0.9831129185771211, 0.9848346565924937, 0.11033365787239273, 0.17486843889209414, 0.35598217917319164, 0.2789567953754835, 0.07702538379770814, 0.1594447188320664, 0.8334610302585289, 0.17508437421491324, 0.24285897068520224, 0.5817319530366473, 0.9959385079323348, 0.9841210123023854, 0.9994441151572684, 0.960948686744233, 0.9900128439784863, 0.9837996584350365, 0.21629351960736792, 0.7786566705865244, 0.9806675320887764, 0.3241254802080196, 0.67318368966281, 0.9891444950003945, 0.9897114612446115, 0.9875780022151428, 0.9751610508567398, 0.9938089729339866, 0.973939254933999, 0.9773459602256853, 0.34059136846896576, 0.6542939446903816, 0.1917728527092054, 0.36657202125004945, 0.09529085848904616, 0.3460249298883489, 0.9850058283152809, 0.9780899128137109, 0.9956791952467962, 0.9883594163510648, 0.9946543276850462, 0.48515507150832526, 0.45809462927280115, 0.056053773202157105, 0.995184787109794, 0.9983012630857508, 0.9897563142525356, 0.996490243894877, 0.28317678862888074, 0.7153939923255934, 0.9982626192707134, 0.1924335049244201, 0.8005233804855876, 0.14606140717305485, 0.8520248751761532, 0.9804579448414349, 0.9720066515530693, 0.9936055133029902, 0.984070781448398, 0.9857272967198897, 0.036945697945634993, 0.5775195942028206, 0.1283376876006268, 0.14778279178253997, 0.10694807300052235, 0.974473262393721, 0.9740957352685075, 0.9920996518163396, 0.9904276811943911, 0.9902684232163321, 0.9802861119414396, 0.997071033815521, 0.9973218971618308, 0.9824171231246587, 0.9919666749994237, 0.9921760056549918, 0.920394806328202, 0.07079960048678477, 0.9908646596181415, 0.9923508793372716, 0.362473035505549, 0.27718526244541986, 0.3589193782947103, 0.9900755281240569, 0.9980791606170112, 0.15020814386169218, 0.5044726341015322, 0.34292802655216514, 0.9943054946449988, 0.8458479449766518, 0.15427415348630757, 0.9972466625374872, 0.9906700039473257, 0.2298029858399663, 0.3447044787599495, 0.20107761260997054, 0.22501542363496702, 0.9862691823927018, 0.9925846462548698, 0.9906340379116888, 0.9820528455348654, 0.9979030355349113, 0.9889933629775425, 0.9989908913554691, 0.982903529168512, 0.2815855832309804, 0.7130473639881277, 0.955287483060709, 0.041939450475836, 0.9794636916628822, 0.27573684196717346, 0.5093701541728923, 0.2146454458427099, 0.9920014703184382, 0.9903084630283422, 0.994737021713836, 0.9857565381195118, 0.9960288964080788, 0.20950770800810806, 0.16637376812408583, 0.15404978530007946, 0.46831134731224155, 0.34047144421083136, 0.06954310349838257, 0.19848760790163358, 0.17675538805838903, 0.21442456912001293, 0.9939020485261935, 0.37110968945951744, 0.6185161490991957, 0.9896904997129153, 0.989857969685008, 0.9837271078983234, 0.9811060406031794, 0.9853669679057285, 0.9872324773974617, 0.9945196718908016, 0.9769666523160527, 0.995871276023887, 0.8774933615123646, 0.11481221552498229, 0.9774822427539818, 0.2244554940133303, 0.767492979529452, 0.984544322248694, 0.9911587757764911, 0.4396104120205012, 0.14104167385657748, 0.11539773315538157, 0.30406386831418003, 0.7135668793151504, 0.2857197976723908, 0.9846356988748709, 0.2778131980877241, 0.7153689850758894, 0.12905713773353927, 0.21609567248406578, 0.32114217994159777, 0.31363885798034546, 0.018007972707005482, 0.9766234453221504, 0.9882571901576654, 0.9973476651472493, 0.031183810675673506, 0.2324233355693532, 0.10685652458197455, 0.6290814073639202, 0.9908558627025428, 0.9793587197407567, 0.9706308477320689, 0.1824534703758461, 0.04510085784571477, 0.6396121658119549, 0.13120249555117025, 0.9883224151290546, 0.9945228251056386, 0.9916369580665712, 0.9952397598791008, 0.996685407403663, 0.966799611572281, 0.9901947526334767, 0.9772590447256662, 0.9823799794948701, 0.43969451132669024, 0.3137038988191871, 0.1641695859946253, 0.08208479299731265, 0.9958086329093113, 0.9917118655364351, 0.969542946490934, 0.9824204762026669, 0.2691218975653317, 0.23996008203967661, 0.10498253589235851, 0.0008331947293044327, 0.3332778917217731, 0.05082487848757039, 0.9985308496184158, 0.9823997708905386, 0.09570007774069758, 0.45847013987403956, 0.07566982891124925, 0.037834914455624626, 0.1513396578224985, 0.031158164845808516, 0.14688849141595442, 0.0006353976856447358, 0.14487067232699974, 0.635715384487558, 0.0009530965284671036, 0.21762370733332198, 0.9976948211020746, 0.9896354354487537, 0.9852808475304066, 0.9957735632355614, 0.991366644495456, 0.9986366911407709, 0.9939122682646153, 0.1920381520048956, 0.2595955474984745, 0.03544678158613708, 0.19141262056514022, 0.2856593574882812, 0.03586380254597399, 0.9955661645359787, 0.06360703303958191, 0.9359320575824195, 0.9847865545496297, 0.9845289892004859, 0.7748629688150751, 0.223671784812599, 0.3660292304075263, 0.6266864096371283, 0.1778560423226571, 0.8216949155306758, 0.3023614286571887, 0.691703542270555, 0.6730573839739198, 0.1822089050537131, 0.14130486514369586, 0.9929606439884743, 0.7731204803364463, 0.22089156581041322, 0.9926698661314401, 0.14983342825566515, 0.11328868965672242, 0.1534879021155594, 0.1315610589561938, 0.14983342825566515, 0.2996668565113303, 0.6465559931020982, 0.3521421033859642, 0.9937731580524966, 0.9776042544396315, 0.9612804580020964, 0.9809434252100548, 0.9648667005565101, 0.9905778524417577, 0.9858528819040363, 0.9918596587238128, 0.9933902767159577, 0.9911096164126267, 0.9863557856594852, 0.9896055082299442, 0.9920465273140717, 0.9978324917968908, 0.15606511770772444, 0.8420779732431175, 0.9908378661892366, 0.32216833022889674, 0.2147788868192645, 0.11037248350434425, 0.3519987311760168, 0.23135803205322497, 0.7656849156047207, 0.5913579000958941, 0.4042193241161807, 0.9869901359629529, 0.9935780573435877, 0.9993413952140555, 0.9838854997318193, 0.9994916168059939, 0.9931731703964014, 0.9850833720954776, 0.9875839475428617, 0.10432517800171381, 0.8793122145858736, 0.9911691447350734, 0.26761389186133805, 0.7307022786474795, 0.993794463352113, 0.9930045097462786, 0.9974804749991797, 0.12719971605164218, 0.6425778759160544, 0.2280822494719101, 0.991301835281046, 0.10253273351874516, 0.13265534449600364, 0.05619025509219368, 0.2236024584081109, 0.053873131170866104, 0.20158978115549897, 0.07704437038414184, 0.06661731273816776, 0.08631286606945214, 0.7205301367510274, 0.27536183570102957, 0.990384337963583, 0.9812020185789215, 0.12742648506204926, 0.10331877167193185, 0.17564191184228414, 0.05682532441956251, 0.5148718788317936, 0.018941774806520838, 0.9943433371044387, 0.7884283815928546, 0.20893352112210645, 0.9909473464645816, 0.012260299418708804, 0.12260299418708805, 0.8634753733462057, 0.21862958445173702, 0.6183627799045398, 0.05221005001832526, 0.027736589072235293, 0.06036787033368858, 0.021210332819944635, 0.9794388161824429, 0.29150890628694026, 0.04989792089596275, 0.1720165167729242, 0.26262063629454074, 0.07222067498099871, 0.14444134996199742, 0.007878619088836223, 0.4104267496160974, 0.04863306999880666, 0.42360767512979264, 0.02658910836383355, 0.09044841990432267, 0.8786084356959643, 0.11767077263785236, 0.45929349292162497, 0.09732241299826254, 0.151959557137638, 0.08707794847212964, 0.20147446901394703, 0.9764127403992505, 0.9929867008892495, 0.9917541196129537, 0.7841768996183446, 0.21292220453213329, 0.9958194043922768, 0.9785876082777305, 0.9919319069200786, 0.9835283438759976, 0.986776927798659, 0.997192957306087, 0.9955420656633635, 0.992580552492652, 0.0028687299204989943, 0.9712640141838282, 0.9925219644264608, 0.45068819298811846, 0.5481342887693332, 0.583907233795703, 0.41576640731002934, 0.3423589195476024, 0.6543822386289615, 0.19192296867502287, 0.42240989834549425, 0.2125502036260767, 0.000896836302219733, 0.05111966922652478, 0.07085006787535891, 0.04932599662208532, 0.9907391795411079, 0.20552056141757466, 0.6994910335966577, 0.09374622099749019, 0.033915767989260326, 0.9659713179163403, 0.9803978679705484, 0.17058990291224874, 0.7164775922314448, 0.11210193619947775, 0.9922488848336359, 0.9914062906820583, 0.15333670709130454, 0.23869162286134105, 0.3157376530254448, 0.06420502513675314, 0.22811667754469936, 0.49676711529080203, 0.14841175228604875, 0.07832842481763683, 0.05771568144457451, 0.05977695578188074, 0.1587181239725799, 0.11376930942179636, 0.21616168790141307, 0.6655504601175087, 0.9764271313667634, 0.6844840737144636, 0.019754230121629544, 0.2953257403183617, 0.9861558934730504, 0.9843410607467351, 0.9806183499404167, 0.8321801083476434, 0.1656472253582987, 0.6515099755660779, 0.3434590632060302, 0.9902792444981449, 0.9942090388332671, 0.16465470457497608, 0.8232735228748804, 0.9819404197833419, 0.9959308045280506, 0.9972992928976067, 0.9921909788987497, 0.9839507569049474, 0.6157451016496028, 0.2669415180561862, 0.11389504770397277, 0.9917754600920213, 0.3199559034132016, 0.07763635891643864, 0.1611542601750317, 0.19291458882266568, 0.24820108683891745, 0.9893485132290364, 0.9915318117725143, 0.9827339182885818, 0.9726968680471122, 0.8910345199630529, 0.10634928141494503, 0.9706932909969337, 0.9867699938531431, 0.32776231750566776, 0.5044629326514294, 0.16699940490246495, 0.9850639716131642, 0.8405892999819377, 0.15583958932249406, 0.9949181716831065, 0.9915784156664071, 0.9776261101736292, 0.9897245865680471, 0.9927538937806908, 0.990666761132781, 0.9906963211596331, 0.9933773026002763, 0.1624831392238965, 0.6665124690612897, 0.16579912165703725, 0.06258378234406602, 0.9330673004024388, 0.9820046915638154, 0.7601998389026767, 0.14056880138027233, 0.09872725180554244, 0.9913618565007426, 0.997165141392007, 0.5824310803574219, 0.06958247420199287, 0.10308514696591538, 0.24225009536990114, 0.9827725403942025, 0.9837171288493467, 0.04751582490340984, 0.1580981083149818, 0.552047492968707, 0.08984810527190223, 0.15205063969091148, 0.9951321627981271, 0.9885548695269296, 0.989586549580379, 0.9917771420866411, 0.9932570135084067, 0.19160737554762372, 0.3411692454891858, 0.0018019502402597842, 0.3387666451688394, 0.021022752803030814, 0.10571441409524067, 0.9896075638238397, 0.9768117111614391, 0.7021134172850528, 0.29583430503583685, 0.12965391470375093, 0.8643594313583395, 0.9915468240548081, 0.9657599241561435, 0.897945344161452, 0.10163239908193926, 0.18139456156086317, 0.7508891152984568, 0.06749565081334444, 0.5101462270471495, 0.48796595630596906, 0.9905788691742885, 0.9869300338522532, 0.9948887949835622, 0.09058271128263061, 0.5007929895196864, 0.18116542256526122, 0.12293367959785584, 0.0025880774652180176, 0.1022290598761117, 0.9883859328441941, 0.9976155918091678, 0.9863486912387867, 0.991339189008963, 0.865750680087263, 0.1286258153272505, 0.9904046293490858, 0.9673802722474041, 0.2086538561838305, 0.12461271966534322, 0.23473558820680934, 0.16228633258742373, 0.06375534494505933, 0.20575588595905508, 0.9790052827790847, 0.9829106443682286, 0.9951670072217785, 0.9767848551942871, 0.9779729410826082, 0.7206004667475537, 0.27926885558690334, 0.9875549651875878, 0.9852866686217507, 0.3553267325148625, 0.6437078487588089, 0.07219130301864188, 0.9204391134876839, 0.9716353927523631, 0.9756015111734659, 0.5236120166090289, 0.13630535035536626, 0.2992068666337308, 0.03823198851431005, 0.9949128084487181, 0.9929479209473836, 0.9797343823262807, 0.2653471854461348, 0.6065078524483081, 0.12319690752856258, 0.9911654179805819, 0.032706179372667656, 0.015698966098880475, 0.8241957201912249, 0.09942678529290967, 0.02747319067304083, 0.9962191627542478, 0.17339109409823072, 0.044842524335749326, 0.7055223828824561, 0.0747375405595822, 0.9905143824107294, 0.9797947135352219, 0.7896276948906025, 0.21009736881910673, 0.4382129393659437, 0.5606547900711338, 0.9947806759524449, 0.9903416142041545, 0.9839501569093826, 0.9960727168417053, 0.20516658107327534, 0.7928471268594369, 0.8014101621757197, 0.18432433730041553, 0.9875715458803783, 0.9654636557856797, 0.9811733405825062, 0.9736104006432553, 0.9928543185045082, 0.9806108545989739, 0.9703807809233617, 0.997220063532304, 0.14211709003393394, 0.8527025402036037, 0.2516677348438681, 0.042314504506376416, 0.3537551757858252, 0.12013768412299877, 0.23213796353323285, 0.20412272626257638, 0.05763465212119803, 0.0024014438383832513, 0.19931983858580987, 0.2281371646464089, 0.30738481131305617, 0.9805709711272842, 0.9867013987296993, 0.9896173335936614, 0.9765436987178134, 0.9956333660508664, 0.9756694737901425, 0.09073564062498204, 0.22209918003726947, 0.08125579757461078, 0.42794720055961677, 0.059587584888047905, 0.005417053171640719, 0.11375811660445509, 0.49461716983973575, 0.3165549886974309, 0.14838515095192073, 0.03956937358717886, 0.9644222851113053, 0.34296346274009804, 0.26840618823138107, 0.08771444059849055, 0.11315162837205281, 0.02806862099151698, 0.1587631374832679, 0.9959349438137105, 0.9862868308015719, 0.3644902580075503, 0.6269232437729866, 0.9721907145039524, 0.9774615546519586, 0.13291591141400816, 0.8657495851561071, 0.9963322551150454, 0.9670639006650203, 0.19278747579512928, 0.7314583640462258, 0.06804263851592798, 0.993676892813179, 0.9758061734824343, 0.08414912232499143, 0.9116154918540738, 0.9905817752406834, 0.9834133397887123, 0.9983044350028666, 0.9738539193534619, 0.29915145320754427, 0.03070558615240038, 0.016112832337398218, 0.43383041029183506, 0.22010737004294925, 0.9760019159149688, 0.9958294276541463, 0.9968718390274031, 0.9908734002986098, 0.983145822879721, 0.38930551789527906, 0.6062954786893691, 0.49128296344695677, 0.1265176862388484, 0.38119614555081593, 0.9936942748198854, 0.98700768805991, 0.04902601522979705, 0.349065228436155, 0.1676689720859059, 0.09216890863201845, 0.3010197335109539, 0.04020133248843358, 0.9938845861314415, 0.4662582534295589, 0.03706155347773417, 0.49495106902522407, 0.9798226470994997, 0.9980288620719928, 0.9964968004709427, 0.004534603186813708, 0.32535777865388354, 0.005668253983517135, 0.11223142887363928, 0.5509542871978655, 0.9982459707451459, 0.31802486273032377, 0.6753120541927863, 0.9711488710191923, 0.9709929886291245, 0.9740093905012183, 0.01474777299631918, 0.15362263537832477, 0.2851236112621708, 0.143790786714112, 0.17390082324826364, 0.10630686368180074, 0.021507168952965467, 0.10077644880818105, 0.992594223575444, 0.23632689039601856, 0.7611116028930598, 0.9943995601000142, 0.8255097490645248, 0.1744928370428473, 0.9969629346708616, 0.9954010439943533], \"Term\": [\" \", \" \", \" \", \" \", \" \", \"12\", \"128\", \"15\", \"16\", \"2\", \"2\", \"3\", \"3\", \"3\", \"32\", \"4\", \"4\", \"5\", \"5\", \"6\", \"6\", \"64\", \"7\", \"7\", \"7\", \"8\", \"8\", \"8\", \"9\", \"able\", \"able\", \"able\", \"able\", \"able\", \"absolutely\", \"absolutely\", \"access\", \"access\", \"account\", \"activity\", \"ad\", \"ad\", \"add\", \"add\", \"add\", \"additional\", \"adult\", \"adult\", \"advertisement\", \"age\", \"ago\", \"alexa\", \"alexa\", \"alot\", \"alternative\", \"amazon\", \"amazon\", \"amazon\", \"amazon\", \"amsung\", \"android\", \"annoying\", \"app\", \"app\", \"app\", \"apple\", \"apple\", \"application\", \"appropriate\", \"appropriate\", \"audio\", \"available\", \"available\", \"bad\", \"bad\", \"base\", \"basic\", \"battery\", \"beat\", \"beat\", \"beginner\", \"believe\", \"benefit\", \"big\", \"big\", \"big\", \"big\", \"big\", \"birthday\", \"birthday\", \"bit\", \"bit\", \"bit\", \"black\", \"blue\", \"book\", \"bother\", \"boy\", \"brand\", \"break\", \"break\", \"breeze\", \"bright\", \"bright\", \"bring\", \"browse\", \"browser\", \"buck\", \"budget\", \"bumper\", \"busy\", \"button\", \"button\", \"buy\", \"buy\", \"buy\", \"buy\", \"cable\", \"call\", \"camera\", \"capability\", \"carry\", \"case\", \"case\", \"case\", \"change\", \"charge\", \"charger\", \"cheap\", \"check\", \"check\", \"child\", \"choice\", \"choice\", \"christmas\", \"christmas\", \"clarity\", \"class\", \"clear\", \"close\", \"college\", \"come\", \"come\", \"come\", \"come\", \"come\", \"comfortable\", \"compact\", \"compare\", \"complain\", \"connect\", \"consider\", \"content\", \"control\", \"convenient\", \"cool\", \"cost\", \"couple\", \"couple\", \"creen\", \"customer\", \"d\", \"d\", \"d\", \"dad\", \"daughter\", \"day\", \"day\", \"day\", \"decent\", \"decide\", \"decide\", \"definitely\", \"design\", \"device\", \"device\", \"device\", \"device\", \"die\", \"difference\", \"disappoint\", \"disappointed\", \"display\", \"dollar\", \"download\", \"downside\", \"drop\", \"drop\", \"durable\", \"durable\", \"early\", \"easy\", \"easy\", \"easy\", \"ebook\", \"edition\", \"educational\", \"electronic\", \"email\", \"end\", \"end\", \"end\", \"end\", \"enjoy\", \"enjoy\", \"enjoy\", \"enjoy\", \"enjoy\", \"entertain\", \"entertainment\", \"entertainment\", \"ereader\", \"everyday\", \"exactly\", \"exchange\", \"excited\", \"expandable\", \"expect\", \"expectation\", \"expensive\", \"experience\", \"experience\", \"eye\", \"facebook\", \"facebook\", \"fall\", \"family\", \"far\", \"far\", \"far\", \"far\", \"fast\", \"fast\", \"father\", \"favorite\", \"favorite\", \"feature\", \"feature\", \"feature\", \"feature\", \"feature\", \"fill\", \"finally\", \"fine\", \"fire\", \"fire\", \"fire\", \"fire\", \"fit\", \"flight\", \"format\", \"free\", \"free\", \"free\", \"free\", \"freetime\", \"friday\", \"friend\", \"friendly\", \"fun\", \"functional\", \"functionality\", \"g\", \"galaxy\", \"game\", \"game\", \"game\", \"game\", \"gb\", \"geek\", \"general\", \"generation\", \"get\", \"get\", \"get\", \"get\", \"get\", \"get\", \"gift\", \"girl\", \"go\", \"go\", \"go\", \"go\", \"go\", \"go\", \"go\", \"good\", \"good\", \"good\", \"good\", \"good\", \"google\", \"grand\", \"grandchild\", \"granddaughter\", \"grandkid\", \"grandson\", \"graphic\", \"great\", \"great\", \"great\", \"great\", \"great\", \"great\", \"hand\", \"handle\", \"handle\", \"handy\", \"happen\", \"happy\", \"happy\", \"hard\", \"hard\", \"hd\", \"hd\", \"hd8\", \"hd8\", \"help\", \"help\", \"help\", \"helpful\", \"high\", \"high\", \"highly\", \"hold\", \"hold\", \"hold\", \"hold\", \"hold\", \"hold\", \"home\", \"home\", \"huge\", \"hulu\", \"icon\", \"idea\", \"ilk\", \"impressed\", \"improve\", \"improvement\", \"inch\", \"inexpensive\", \"instal\", \"install\", \"instruction\", \"internet\", \"ipad\", \"ipad\", \"iphone\", \"issue\", \"issue\", \"issue\", \"issue\", \"item\", \"item\", \"keep\", \"keep\", \"key\", \"keyboard\", \"kid\", \"kids\", \"kindle\", \"lack\", \"lag\", \"last\", \"late\", \"late\", \"law\", \"learn\", \"learn\", \"learning\", \"library\", \"life\", \"light\", \"light\", \"light\", \"lightweight\", \"like\", \"like\", \"like\", \"like\", \"like\", \"like\", \"like\", \"like\", \"like\", \"limit\", \"limit\", \"limited\", \"link\", \"little\", \"little\", \"little\", \"little\", \"little\", \"little\", \"live\", \"load\", \"load\", \"lock\", \"long\", \"long\", \"long\", \"look\", \"look\", \"look\", \"look\", \"look\", \"look\", \"loose\", \"lot\", \"lot\", \"lot\", \"lot\", \"lot\", \"lot\", \"lot\", \"love\", \"love\", \"love\", \"love\", \"love\", \"low\", \"low\", \"m\", \"m\", \"m\", \"m\", \"m\", \"magazine\", \"main\", \"mainly\", \"member\", \"member\", \"memory\", \"micro\", \"mini\", \"minute\", \"mode\", \"model\", \"mom\", \"money\", \"money\", \"monitor\", \"mother\", \"movie\", \"movie\", \"music\", \"music\", \"navigate\", \"navigate\", \"need\", \"need\", \"need\", \"need\", \"need\", \"need\", \"need\", \"nephew\", \"netflix\", \"netflix\", \"netflix\", \"new\", \"new\", \"news\", \"nice\", \"nice\", \"nice\", \"niece\", \"nook\", \"not\", \"not\", \"not\", \"not\", \"not\", \"o\", \"o\", \"o\", \"o\", \"o\", \"o\", \"offer\", \"offer\", \"offer\", \"offline\", \"old\", \"old\", \"old\", \"one\", \"operate\", \"operating\", \"option\", \"option\", \"overall\", \"overall\", \"own\", \"pad\", \"page\", \"page\", \"pair\", \"parent\", \"parental\", \"pass\", \"past\", \"pay\", \"pay\", \"pay\", \"people\", \"perfect\", \"perfect\", \"perfect\", \"perfect\", \"perfect\", \"perform\", \"performance\", \"person\", \"personal\", \"picture\", \"picture\", \"pink\", \"place\", \"play\", \"play\", \"play\", \"playing\", \"pleased\", \"pleased\", \"plenty\", \"plug\", \"pop\", \"port\", \"power\", \"powerful\", \"prefer\", \"present\", \"pretty\", \"pretty\", \"pretty\", \"previous\", \"previous\", \"previously\", \"price\", \"price\", \"price\", \"primarily\", \"prime\", \"problem\", \"problem\", \"problem\", \"problem\", \"processing\", \"processor\", \"product\", \"product\", \"product\", \"product\", \"product\", \"profile\", \"program\", \"protection\", \"protective\", \"provide\", \"purchase\", \"purchase\", \"purchase\", \"purchase\", \"purchase\", \"purchase\", \"purse\", \"quad\", \"quality\", \"quality\", \"quick\", \"quick\", \"ram\", \"range\", \"read\", \"read\", \"reader\", \"reader\", \"reader\", \"reading\", \"reading\", \"real\", \"reasonable\", \"receive\", \"recommend\", \"recommend\", \"recommend\", \"recommend\", \"recommend\", \"recommend\", \"reliable\", \"replace\", \"require\", \"research\", \"resolution\", \"resolution\", \"responsive\", \"ride\", \"right\", \"right\", \"right\", \"right\", \"right\", \"right\", \"road\", \"safe\", \"satisfied\", \"save\", \"savvy\", \"screen\", \"screen\", \"sd\", \"search\", \"second\", \"second\", \"see\", \"see\", \"selection\", \"serve\", \"set\", \"set\", \"set\", \"set\", \"setting\", \"sharp\", \"shop\", \"show\", \"show\", \"show\", \"simple\", \"size\", \"size\", \"size\", \"size\", \"size\", \"slow\", \"small\", \"small\", \"small\", \"small\", \"social\", \"solid\", \"son\", \"son\", \"speaker\", \"speaker\", \"speed\", \"starter\", \"step\", \"storage\", \"store\", \"store\", \"stream\", \"stream\", \"streaming\", \"strong\", \"sturdy\", \"subscription\", \"surf\", \"surfing\", \"surprised\", \"system\", \"table\", \"table\", \"tablet\", \"tablet\", \"tablet\", \"tablet\", \"tablet\", \"take\", \"take\", \"take\", \"take\", \"take\", \"take\", \"task\", \"tear\", \"tech\", \"text\", \"thank\", \"thin\", \"thing\", \"thing\", \"thing\", \"thing\", \"thing\", \"thing\", \"thing\", \"think\", \"think\", \"think\", \"think\", \"throw\", \"time\", \"time\", \"time\", \"time\", \"time\", \"time\", \"toddler\", \"tool\", \"touch\", \"touch\", \"toy\", \"transfer\", \"travel\", \"travel\", \"trip\", \"trouble\", \"turn\", \"turn\", \"turn\", \"tv\", \"underground\", \"unit\", \"unit\", \"unlimited\", \"uper\", \"upgrade\", \"usage\", \"use\", \"use\", \"use\", \"use\", \"use\", \"useful\", \"user\", \"value\", \"variety\", \"versatile\", \"version\", \"version\", \"video\", \"video\", \"video\", \"view\", \"volume\", \"want\", \"want\", \"want\", \"want\", \"want\", \"want\", \"warranty\", \"watch\", \"watch\", \"watch\", \"wear\", \"web\", \"weight\", \"well\", \"well\", \"well\", \"well\", \"well\", \"wife\", \"wifi\", \"wifi\", \"win\", \"window\", \"word\", \"work\", \"work\", \"work\", \"work\", \"work\", \"work\", \"work\", \"work\", \"worry\", \"worth\", \"worth\", \"wrong\", \"year\", \"year\", \"youtube\", \"yr\"]}, \"R\": 30, \"lambda.step\": 0.01, \"plot.opts\": {\"xlab\": \"PC1\", \"ylab\": \"PC2\"}, \"topic.order\": [10, 2, 6, 3, 5, 9, 1, 4, 8, 7]};\n",
              "\n",
              "function LDAvis_load_lib(url, callback){\n",
              "  var s = document.createElement('script');\n",
              "  s.src = url;\n",
              "  s.async = true;\n",
              "  s.onreadystatechange = s.onload = callback;\n",
              "  s.onerror = function(){console.warn(\"failed to load library \" + url);};\n",
              "  document.getElementsByTagName(\"head\")[0].appendChild(s);\n",
              "}\n",
              "\n",
              "if(typeof(LDAvis) !== \"undefined\"){\n",
              "   // already loaded: just create the visualization\n",
              "   !function(LDAvis){\n",
              "       new LDAvis(\"#\" + \"ldavis_el12741338580817068808444218515\", ldavis_el12741338580817068808444218515_data);\n",
              "   }(LDAvis);\n",
              "}else if(typeof define === \"function\" && define.amd){\n",
              "   // require.js is available: use it to load d3/LDAvis\n",
              "   require.config({paths: {d3: \"https://d3js.org/d3.v5\"}});\n",
              "   require([\"d3\"], function(d3){\n",
              "      window.d3 = d3;\n",
              "      LDAvis_load_lib(\"https://cdn.jsdelivr.net/gh/bmabey/pyLDAvis@3.3.1/pyLDAvis/js/ldavis.v3.0.0.js\", function(){\n",
              "        new LDAvis(\"#\" + \"ldavis_el12741338580817068808444218515\", ldavis_el12741338580817068808444218515_data);\n",
              "      });\n",
              "    });\n",
              "}else{\n",
              "    // require.js not available: dynamically load d3 & LDAvis\n",
              "    LDAvis_load_lib(\"https://d3js.org/d3.v5.js\", function(){\n",
              "         LDAvis_load_lib(\"https://cdn.jsdelivr.net/gh/bmabey/pyLDAvis@3.3.1/pyLDAvis/js/ldavis.v3.0.0.js\", function(){\n",
              "                 new LDAvis(\"#\" + \"ldavis_el12741338580817068808444218515\", ldavis_el12741338580817068808444218515_data);\n",
              "            })\n",
              "         });\n",
              "}\n",
              "</script>"
            ]
          },
          "metadata": {},
          "execution_count": 36
        }
      ]
    },
    {
      "cell_type": "markdown",
      "source": [
        "Describe the topic bubbles. Each bubble on the left-hand side plot represents a topic. The larger the bubble, the more prevalent that topic is.\n",
        "\n",
        "Do they overlap or not? If the bubbles overlap, it means that those topics share a lot of terms. If they don't overlap, it means that the topics are distinct.\n",
        "\n",
        "What does it mean when they overlap? Overlapping topics share a lot of terms. This might indicate that these topics are not very well differentiated from each other.\n",
        "\n",
        "What does it mean when they don't overlap? Non-overlapping topics are distinct, meaning they don't share many terms.\n",
        "\n",
        "Are the terms in each topic distinct from the topics in the other topic bubbles? This can be observed from the right-hand side bar chart. If the terms (represented by the bars) in each topic are different from the terms in other topics, then the topics are well differentiated. If many terms are shared among topics, it might indicate that the topics are not very distinct."
      ],
      "metadata": {
        "id": "EF0yoc-YKKTK"
      }
    },
    {
      "cell_type": "markdown",
      "metadata": {
        "id": "9gie-6YrzGeB"
      },
      "source": [
        "## Create a Topic id/name dictionary\n",
        "\n",
        "When populating your topic id/name dictionary, use the index ordering as shown in the viz tool.\n",
        "\n",
        "We'll use a function to map the the viz tool index ordering with the train LDA model ordering."
      ]
    },
    {
      "cell_type": "code",
      "metadata": {
        "deletable": false,
        "nbgrader": {
          "cell_type": "code",
          "checksum": "fc10e9728e5dcf06baf0800c3cdb88ce",
          "grade": false,
          "grade_id": "cell-4905c0c1050f0d03",
          "locked": false,
          "schema_version": 3,
          "solution": true,
          "task": false
        },
        "id": "88vMiVwQzGeC"
      },
      "source": [
        "# create a dictionary\n",
        "# keys - use topic ids from pyLDAvis visualization\n",
        "# values - topic names that you create\n",
        "# save dictionary to `vis_topic_name_dict`\n",
        "\n",
        "vis_topic_name_dict = {1 : 'Kid/Tablet/Game', 2 : 'Good Purchase',\n",
        "                       3 : 'Tablet', 4 : 'Amazon App',\n",
        "                       5 : 'Family Gift', 6 : 'Tablet', 7: 'E-Reader',\n",
        "                       8: 'Kindle Fire', 9: 'Battery Issues', 10: 'Alexa'}"
      ],
      "execution_count": 54,
      "outputs": []
    },
    {
      "cell_type": "code",
      "metadata": {
        "id": "iWLsK27ZzGeC"
      },
      "source": [
        "def get_topic_id_lookup_dict(vis, vis_topic_name_dict):\n",
        "    \"\"\"\n",
        "    Both the starting index and the ordering of topic ids bewteen the trained LDA model\n",
        "    and the viz tool are different. So we need to create a look up dictionary that maps\n",
        "    the correct association between topic ids from both sources.\n",
        "    \"\"\"\n",
        "    # value is order of topic ids accoridng to pyLDAvis tool\n",
        "    # key is order of topic ids according to lda model\n",
        "    model_vis_tool_topic_id_lookup = vis.topic_coordinates.topics.to_dict()\n",
        "\n",
        "    # invert dictionary so that\n",
        "    # key is order of topic ids accoridng to pyLDAvis tool\n",
        "    # value is order of topic ids according to lda model\n",
        "    topic_id_lookup =  {v:k for k, v in model_vis_tool_topic_id_lookup.items()}\n",
        "\n",
        "    return {v:vis_topic_name_dict[k]  for k, v in topic_id_lookup.items()}"
      ],
      "execution_count": 55,
      "outputs": []
    },
    {
      "cell_type": "markdown",
      "metadata": {
        "id": "tR8xm8IG4M0M"
      },
      "source": [
        "Create a topic id/name look up dict\n",
        "that is aligned with the index ordering of the trained LDA model"
      ]
    },
    {
      "cell_type": "code",
      "metadata": {
        "deletable": false,
        "nbgrader": {
          "cell_type": "code",
          "checksum": "55f23aa9324a225091037f0c5daf2192",
          "grade": false,
          "grade_id": "cell-d38acb7b250b4079",
          "locked": false,
          "schema_version": 3,
          "solution": true,
          "task": false
        },
        "id": "dcsa0f_tzGeC"
      },
      "source": [
        "topic_name_dict = get_topic_id_lookup_dict(vis, vis_topic_name_dict)"
      ],
      "execution_count": 56,
      "outputs": []
    },
    {
      "cell_type": "code",
      "metadata": {
        "id": "tbeEkAlC4WNi",
        "colab": {
          "base_uri": "https://localhost:8080/"
        },
        "outputId": "93c54437-5bec-4575-b573-13fde1362ec3"
      },
      "source": [
        "topic_name_dict"
      ],
      "execution_count": 57,
      "outputs": [
        {
          "output_type": "execute_result",
          "data": {
            "text/plain": [
              "{9: 'Kid/Tablet/Game',\n",
              " 1: 'Good Purchase',\n",
              " 5: 'Tablet',\n",
              " 2: 'Amazon App',\n",
              " 4: 'Family Gift',\n",
              " 8: 'Tablet',\n",
              " 0: 'E-Reader',\n",
              " 3: 'Kindle Fire',\n",
              " 7: 'Battery Issues',\n",
              " 6: 'Alexa'}"
            ]
          },
          "metadata": {},
          "execution_count": 57
        }
      ]
    },
    {
      "cell_type": "markdown",
      "metadata": {
        "id": "t4NLAlB9zGeC"
      },
      "source": [
        "## Use the LDA Model to Assign Each Document a Topic Name\n",
        "\n",
        "Now that we have a topic id/name look up dict that is aligned with the index ordering of the trained LDA model, we can move forward to giving each topic a topic name.\n",
        "\n",
        "The function below has been given to you. However, you highly encouraged to read through it and make sure that you understand what it is doing each step of the way. In fact, a good way to do this is to copy and paste the code inside of the function into a new cell, comment out all the lines of code and line by line, uncomment the code and see the output."
      ]
    },
    {
      "cell_type": "code",
      "metadata": {
        "id": "23No1SMKzGeC"
      },
      "source": [
        "def get_topic_ids_for_docs(lda_model, corpus):\n",
        "\n",
        "    \"\"\"\n",
        "    Passes a Bag-of-Words vector into a trained LDA model in order to get the topic id of that document.\n",
        "\n",
        "    Parameters\n",
        "    ----------\n",
        "    lda_model: Gensim object\n",
        "        Must be a trained model\n",
        "\n",
        "    corpus: nested lists of tuples,\n",
        "        i.e. [[(),(), ..., ()], [(),(), ..., ()], ..., [(),(), ..., ()]]\n",
        "\n",
        "    Returns\n",
        "    -------\n",
        "    topic_id_list: list\n",
        "        Contains topic ids for all document vectors in corpus\n",
        "    \"\"\"\n",
        "\n",
        "    # store topic ids for each document\n",
        "    doc_topic_ids = []\n",
        "\n",
        "    # iterature through the bow vectors for each doc\n",
        "    for doc_bow in corpus:\n",
        "\n",
        "        # store the topic ids for the doc\n",
        "        topic_ids = []\n",
        "        # store the topic probabilities for the doc\n",
        "        topic_probs = []\n",
        "\n",
        "        # list of tuples\n",
        "        # each tuple has a topic id and the prob that the doc belongs to that topic\n",
        "        topic_id_prob_tuples = lda_trained_model.get_document_topics(doc_bow)\n",
        "\n",
        "        # iterate through the topic id/prob pairs\n",
        "        for topic_id_prob in topic_id_prob_tuples:\n",
        "\n",
        "            # index for topic id\n",
        "            topic_id = topic_id_prob[0]\n",
        "            # index for prob that doc belongs that the corresponding topic\n",
        "            topic_prob = topic_id_prob[1]\n",
        "\n",
        "            # store all topic ids for doc\n",
        "            topic_ids.append(topic_id)\n",
        "            # store all topic probs for doc\n",
        "            topic_probs.append(topic_prob)\n",
        "\n",
        "        # get the index for the topic that had the highest probability, for the current document\n",
        "        max_topic_prob_ind = np.argmax(topic_probs)\n",
        "        # get the corresponding topic id\n",
        "        max_prob_topic_id = topic_ids[max_topic_prob_ind]\n",
        "        # store the most probable topic id for the current document\n",
        "        doc_topic_ids.append(max_prob_topic_id)\n",
        "\n",
        "    return doc_topic_ids"
      ],
      "execution_count": 58,
      "outputs": []
    },
    {
      "cell_type": "code",
      "metadata": {
        "deletable": false,
        "nbgrader": {
          "cell_type": "code",
          "checksum": "09f2b8ebaf696dc05187cecce8c9e251",
          "grade": false,
          "grade_id": "cell-e28e8774a79ac647",
          "locked": false,
          "schema_version": 3,
          "solution": true,
          "task": false
        },
        "id": "gI94W2MvzGeD"
      },
      "source": [
        "# use get_topic_ids_for_docs to get the topic id for each doc in the corpus - save result to `doc_topic_ids`\n",
        "doc_topic_ids = get_topic_ids_for_docs(lda_trained_model, corpus)\n",
        "\n",
        "# create a new feature in df_electronics called topic_id using `doc_topic_ids`\n",
        "df_electronics['topic_id'] = doc_topic_ids\n",
        "\n",
        "# iterate through topic_id and use the lookup dict `topic_name_dict` to assign each document a topic name\n",
        "# save results to a new feature in df_electronics called `new_topic_name`\n",
        "df_electronics['new_topic_name'] = df_electronics['topic_id'].apply(lambda id: topic_name_dict[id])"
      ],
      "execution_count": 59,
      "outputs": []
    },
    {
      "cell_type": "markdown",
      "metadata": {
        "id": "NZa4oKuIzGeD"
      },
      "source": [
        "## Congratulations! You have created new topic names for your documents."
      ]
    },
    {
      "cell_type": "code",
      "metadata": {
        "id": "kDVAZTa23xkF",
        "colab": {
          "base_uri": "https://localhost:8080/",
          "height": 520
        },
        "outputId": "ac7526cc-282b-40bc-f115-c34fd8e9f829"
      },
      "source": [
        "cols = [\"reviews.text\", \"new_topic_name\", \"topic_id\"]\n",
        "df_electronics[cols].head(15)"
      ],
      "execution_count": 60,
      "outputs": [
        {
          "output_type": "execute_result",
          "data": {
            "text/plain": [
              "                                           reviews.text   new_topic_name  \\\n",
              "8343  Great case to keep everything in its place! My...    Good Purchase   \n",
              "8344  After discarding and getting rid of broken cd ...   Battery Issues   \n",
              "8345     A few dollars more, but I am boycotting amazon   Battery Issues   \n",
              "8346  My initial impression of this was very good. T...            Alexa   \n",
              "8347  Pros: Standard Echo. Cons: Older generation Ec...  Kid/Tablet/Game   \n",
              "8348  Pros: Got it for under 50, much impressive sou...  Kid/Tablet/Game   \n",
              "8349  Pros: I love the Alexa series so when this one...    Good Purchase   \n",
              "8350  ASIDE FROM THE FACT THAT THE SCREEN IS SMALL, ...           Tablet   \n",
              "8351  I wasn't sure I even wanted this item, but cau...           Tablet   \n",
              "8352  Pros: Works good like Alexia Cons: setting it ...  Kid/Tablet/Game   \n",
              "8353  Pros: Relatively easy to setup and works quite...            Alexa   \n",
              "8354  Pros: I WOULD recommend anyone who was going t...    Good Purchase   \n",
              "8355  Pros: Allows you to cut your cable. With many ...         E-Reader   \n",
              "8356  Pros: I'm a subscriber to DirectTV Now! So i p...   Battery Issues   \n",
              "8357  Pros: Very satisfied I am about buy online thi...    Good Purchase   \n",
              "\n",
              "      topic_id  \n",
              "8343         1  \n",
              "8344         7  \n",
              "8345         7  \n",
              "8346         6  \n",
              "8347         9  \n",
              "8348         9  \n",
              "8349         1  \n",
              "8350         8  \n",
              "8351         5  \n",
              "8352         9  \n",
              "8353         6  \n",
              "8354         1  \n",
              "8355         0  \n",
              "8356         7  \n",
              "8357         1  "
            ],
            "text/html": [
              "\n",
              "\n",
              "  <div id=\"df-86b4e4a8-7238-4cc9-aa4e-dd4035800c16\">\n",
              "    <div class=\"colab-df-container\">\n",
              "      <div>\n",
              "<style scoped>\n",
              "    .dataframe tbody tr th:only-of-type {\n",
              "        vertical-align: middle;\n",
              "    }\n",
              "\n",
              "    .dataframe tbody tr th {\n",
              "        vertical-align: top;\n",
              "    }\n",
              "\n",
              "    .dataframe thead th {\n",
              "        text-align: right;\n",
              "    }\n",
              "</style>\n",
              "<table border=\"1\" class=\"dataframe\">\n",
              "  <thead>\n",
              "    <tr style=\"text-align: right;\">\n",
              "      <th></th>\n",
              "      <th>reviews.text</th>\n",
              "      <th>new_topic_name</th>\n",
              "      <th>topic_id</th>\n",
              "    </tr>\n",
              "  </thead>\n",
              "  <tbody>\n",
              "    <tr>\n",
              "      <th>8343</th>\n",
              "      <td>Great case to keep everything in its place! My...</td>\n",
              "      <td>Good Purchase</td>\n",
              "      <td>1</td>\n",
              "    </tr>\n",
              "    <tr>\n",
              "      <th>8344</th>\n",
              "      <td>After discarding and getting rid of broken cd ...</td>\n",
              "      <td>Battery Issues</td>\n",
              "      <td>7</td>\n",
              "    </tr>\n",
              "    <tr>\n",
              "      <th>8345</th>\n",
              "      <td>A few dollars more, but I am boycotting amazon</td>\n",
              "      <td>Battery Issues</td>\n",
              "      <td>7</td>\n",
              "    </tr>\n",
              "    <tr>\n",
              "      <th>8346</th>\n",
              "      <td>My initial impression of this was very good. T...</td>\n",
              "      <td>Alexa</td>\n",
              "      <td>6</td>\n",
              "    </tr>\n",
              "    <tr>\n",
              "      <th>8347</th>\n",
              "      <td>Pros: Standard Echo. Cons: Older generation Ec...</td>\n",
              "      <td>Kid/Tablet/Game</td>\n",
              "      <td>9</td>\n",
              "    </tr>\n",
              "    <tr>\n",
              "      <th>8348</th>\n",
              "      <td>Pros: Got it for under 50, much impressive sou...</td>\n",
              "      <td>Kid/Tablet/Game</td>\n",
              "      <td>9</td>\n",
              "    </tr>\n",
              "    <tr>\n",
              "      <th>8349</th>\n",
              "      <td>Pros: I love the Alexa series so when this one...</td>\n",
              "      <td>Good Purchase</td>\n",
              "      <td>1</td>\n",
              "    </tr>\n",
              "    <tr>\n",
              "      <th>8350</th>\n",
              "      <td>ASIDE FROM THE FACT THAT THE SCREEN IS SMALL, ...</td>\n",
              "      <td>Tablet</td>\n",
              "      <td>8</td>\n",
              "    </tr>\n",
              "    <tr>\n",
              "      <th>8351</th>\n",
              "      <td>I wasn't sure I even wanted this item, but cau...</td>\n",
              "      <td>Tablet</td>\n",
              "      <td>5</td>\n",
              "    </tr>\n",
              "    <tr>\n",
              "      <th>8352</th>\n",
              "      <td>Pros: Works good like Alexia Cons: setting it ...</td>\n",
              "      <td>Kid/Tablet/Game</td>\n",
              "      <td>9</td>\n",
              "    </tr>\n",
              "    <tr>\n",
              "      <th>8353</th>\n",
              "      <td>Pros: Relatively easy to setup and works quite...</td>\n",
              "      <td>Alexa</td>\n",
              "      <td>6</td>\n",
              "    </tr>\n",
              "    <tr>\n",
              "      <th>8354</th>\n",
              "      <td>Pros: I WOULD recommend anyone who was going t...</td>\n",
              "      <td>Good Purchase</td>\n",
              "      <td>1</td>\n",
              "    </tr>\n",
              "    <tr>\n",
              "      <th>8355</th>\n",
              "      <td>Pros: Allows you to cut your cable. With many ...</td>\n",
              "      <td>E-Reader</td>\n",
              "      <td>0</td>\n",
              "    </tr>\n",
              "    <tr>\n",
              "      <th>8356</th>\n",
              "      <td>Pros: I'm a subscriber to DirectTV Now! So i p...</td>\n",
              "      <td>Battery Issues</td>\n",
              "      <td>7</td>\n",
              "    </tr>\n",
              "    <tr>\n",
              "      <th>8357</th>\n",
              "      <td>Pros: Very satisfied I am about buy online thi...</td>\n",
              "      <td>Good Purchase</td>\n",
              "      <td>1</td>\n",
              "    </tr>\n",
              "  </tbody>\n",
              "</table>\n",
              "</div>\n",
              "      <button class=\"colab-df-convert\" onclick=\"convertToInteractive('df-86b4e4a8-7238-4cc9-aa4e-dd4035800c16')\"\n",
              "              title=\"Convert this dataframe to an interactive table.\"\n",
              "              style=\"display:none;\">\n",
              "\n",
              "  <svg xmlns=\"http://www.w3.org/2000/svg\" height=\"24px\"viewBox=\"0 0 24 24\"\n",
              "       width=\"24px\">\n",
              "    <path d=\"M0 0h24v24H0V0z\" fill=\"none\"/>\n",
              "    <path d=\"M18.56 5.44l.94 2.06.94-2.06 2.06-.94-2.06-.94-.94-2.06-.94 2.06-2.06.94zm-11 1L8.5 8.5l.94-2.06 2.06-.94-2.06-.94L8.5 2.5l-.94 2.06-2.06.94zm10 10l.94 2.06.94-2.06 2.06-.94-2.06-.94-.94-2.06-.94 2.06-2.06.94z\"/><path d=\"M17.41 7.96l-1.37-1.37c-.4-.4-.92-.59-1.43-.59-.52 0-1.04.2-1.43.59L10.3 9.45l-7.72 7.72c-.78.78-.78 2.05 0 2.83L4 21.41c.39.39.9.59 1.41.59.51 0 1.02-.2 1.41-.59l7.78-7.78 2.81-2.81c.8-.78.8-2.07 0-2.86zM5.41 20L4 18.59l7.72-7.72 1.47 1.35L5.41 20z\"/>\n",
              "  </svg>\n",
              "      </button>\n",
              "\n",
              "\n",
              "\n",
              "    <div id=\"df-70db239b-6933-4a0f-9f97-0164bbfe4669\">\n",
              "      <button class=\"colab-df-quickchart\" onclick=\"quickchart('df-70db239b-6933-4a0f-9f97-0164bbfe4669')\"\n",
              "              title=\"Suggest charts.\"\n",
              "              style=\"display:none;\">\n",
              "\n",
              "<svg xmlns=\"http://www.w3.org/2000/svg\" height=\"24px\"viewBox=\"0 0 24 24\"\n",
              "     width=\"24px\">\n",
              "    <g>\n",
              "        <path d=\"M19 3H5c-1.1 0-2 .9-2 2v14c0 1.1.9 2 2 2h14c1.1 0 2-.9 2-2V5c0-1.1-.9-2-2-2zM9 17H7v-7h2v7zm4 0h-2V7h2v10zm4 0h-2v-4h2v4z\"/>\n",
              "    </g>\n",
              "</svg>\n",
              "      </button>\n",
              "    </div>\n",
              "\n",
              "<style>\n",
              "  .colab-df-quickchart {\n",
              "    background-color: #E8F0FE;\n",
              "    border: none;\n",
              "    border-radius: 50%;\n",
              "    cursor: pointer;\n",
              "    display: none;\n",
              "    fill: #1967D2;\n",
              "    height: 32px;\n",
              "    padding: 0 0 0 0;\n",
              "    width: 32px;\n",
              "  }\n",
              "\n",
              "  .colab-df-quickchart:hover {\n",
              "    background-color: #E2EBFA;\n",
              "    box-shadow: 0px 1px 2px rgba(60, 64, 67, 0.3), 0px 1px 3px 1px rgba(60, 64, 67, 0.15);\n",
              "    fill: #174EA6;\n",
              "  }\n",
              "\n",
              "  [theme=dark] .colab-df-quickchart {\n",
              "    background-color: #3B4455;\n",
              "    fill: #D2E3FC;\n",
              "  }\n",
              "\n",
              "  [theme=dark] .colab-df-quickchart:hover {\n",
              "    background-color: #434B5C;\n",
              "    box-shadow: 0px 1px 3px 1px rgba(0, 0, 0, 0.15);\n",
              "    filter: drop-shadow(0px 1px 2px rgba(0, 0, 0, 0.3));\n",
              "    fill: #FFFFFF;\n",
              "  }\n",
              "</style>\n",
              "\n",
              "    <script>\n",
              "      async function quickchart(key) {\n",
              "        const containerElement = document.querySelector('#' + key);\n",
              "        const charts = await google.colab.kernel.invokeFunction(\n",
              "            'suggestCharts', [key], {});\n",
              "      }\n",
              "    </script>\n",
              "\n",
              "      <script>\n",
              "\n",
              "function displayQuickchartButton(domScope) {\n",
              "  let quickchartButtonEl =\n",
              "    domScope.querySelector('#df-70db239b-6933-4a0f-9f97-0164bbfe4669 button.colab-df-quickchart');\n",
              "  quickchartButtonEl.style.display =\n",
              "    google.colab.kernel.accessAllowed ? 'block' : 'none';\n",
              "}\n",
              "\n",
              "        displayQuickchartButton(document);\n",
              "      </script>\n",
              "      <style>\n",
              "    .colab-df-container {\n",
              "      display:flex;\n",
              "      flex-wrap:wrap;\n",
              "      gap: 12px;\n",
              "    }\n",
              "\n",
              "    .colab-df-convert {\n",
              "      background-color: #E8F0FE;\n",
              "      border: none;\n",
              "      border-radius: 50%;\n",
              "      cursor: pointer;\n",
              "      display: none;\n",
              "      fill: #1967D2;\n",
              "      height: 32px;\n",
              "      padding: 0 0 0 0;\n",
              "      width: 32px;\n",
              "    }\n",
              "\n",
              "    .colab-df-convert:hover {\n",
              "      background-color: #E2EBFA;\n",
              "      box-shadow: 0px 1px 2px rgba(60, 64, 67, 0.3), 0px 1px 3px 1px rgba(60, 64, 67, 0.15);\n",
              "      fill: #174EA6;\n",
              "    }\n",
              "\n",
              "    [theme=dark] .colab-df-convert {\n",
              "      background-color: #3B4455;\n",
              "      fill: #D2E3FC;\n",
              "    }\n",
              "\n",
              "    [theme=dark] .colab-df-convert:hover {\n",
              "      background-color: #434B5C;\n",
              "      box-shadow: 0px 1px 3px 1px rgba(0, 0, 0, 0.15);\n",
              "      filter: drop-shadow(0px 1px 2px rgba(0, 0, 0, 0.3));\n",
              "      fill: #FFFFFF;\n",
              "    }\n",
              "  </style>\n",
              "\n",
              "      <script>\n",
              "        const buttonEl =\n",
              "          document.querySelector('#df-86b4e4a8-7238-4cc9-aa4e-dd4035800c16 button.colab-df-convert');\n",
              "        buttonEl.style.display =\n",
              "          google.colab.kernel.accessAllowed ? 'block' : 'none';\n",
              "\n",
              "        async function convertToInteractive(key) {\n",
              "          const element = document.querySelector('#df-86b4e4a8-7238-4cc9-aa4e-dd4035800c16');\n",
              "          const dataTable =\n",
              "            await google.colab.kernel.invokeFunction('convertToInteractive',\n",
              "                                                     [key], {});\n",
              "          if (!dataTable) return;\n",
              "\n",
              "          const docLinkHtml = 'Like what you see? Visit the ' +\n",
              "            '<a target=\"_blank\" href=https://colab.research.google.com/notebooks/data_table.ipynb>data table notebook</a>'\n",
              "            + ' to learn more about interactive tables.';\n",
              "          element.innerHTML = '';\n",
              "          dataTable['output_type'] = 'display_data';\n",
              "          await google.colab.output.renderOutput(dataTable, element);\n",
              "          const docLink = document.createElement('div');\n",
              "          docLink.innerHTML = docLinkHtml;\n",
              "          element.appendChild(docLink);\n",
              "        }\n",
              "      </script>\n",
              "    </div>\n",
              "  </div>\n"
            ]
          },
          "metadata": {},
          "execution_count": 60
        }
      ]
    },
    {
      "cell_type": "markdown",
      "metadata": {
        "id": "gkYnBihNzGeE"
      },
      "source": [
        "-----\n",
        "# Stretch Goals -- see if you can create a model to classify the reviews into the latent topics you've discovered!\n",
        "\n",
        "\n",
        "- Treat `topic_id` as the `y` (target) vector and train a supervised learning model to predict the topic of each document\n",
        "- Report your results on the Slack channel!"
      ]
    },
    {
      "cell_type": "markdown",
      "metadata": {
        "id": "eqY0KKxKQxbm"
      },
      "source": [
        "## Topic Modeling References\n"
      ]
    },
    {
      "cell_type": "markdown",
      "metadata": {
        "id": "iKhe7u4IXr0y"
      },
      "source": [
        "\n",
        "- [Topic Modeling with Gensim](https://www.tutorialspoint.com/gensim/gensim_topic_modeling.htm) -- Brief Tutorial\n",
        "\n",
        "- [Gensim documentation](https://radimrehurek.com/gensim/index.html) -- look up gensim commands\n",
        "\n",
        "- [`pyLDAvis` documentation](https://pyldavis.readthedocs.io/en/latest/readme.html) -- package for visualizing LDA models\n",
        "\n",
        "- [Visualizing Topic Models](https://speakerdeck.com/bmabey/visualizing-topic-models) -- slides from Ben Mabey\n",
        "\n",
        "- [Exploring the Space of Topic Coherence Measures](https://dl.acm.org/doi/10.1145/2684822.2685324) -- Study of Topic Coherence measures\n",
        "\n",
        "- [Exploring Topic Coherence over many models and many topics](https://www.researchgate.net/publication/232242203_Exploring_Topic_Coherence_over_many_models_and_many_topics) -- Study of automated topic coherence measures"
      ]
    }
  ]
}